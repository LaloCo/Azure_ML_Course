{
  "cells": [
    {
      "metadata": {
        "trusted": true
      },
      "cell_type": "code",
      "source": "key = 'd9673916a3e742fd912577b829c4383d'",
      "execution_count": 7,
      "outputs": []
    },
    {
      "metadata": {
        "trusted": true
      },
      "cell_type": "code",
      "source": "import http.client, json, urllib.request, urllib.parse, urllib.error, urllib\n\nheaders = {\n    'Content-Type':'application/json',\n    'Ocp-Apim-Subscription-Key':key\n}\n\nbody = {}\n\ntext = 'homwork'\nservice_url = 'api.cognitive.microsoft.com'\nparams = urllib.parse.urlencode({\n    'text':text,\n    'mkt':'en-US',\n    'setLang':'EN',\n})\nendpoint = '/bing/v7.0/spellcheck?%s' % params\n\nprint(endpoint)",
      "execution_count": 8,
      "outputs": [
        {
          "output_type": "stream",
          "text": "/bing/v7.0/spellcheck?text=homwork&mkt=en-US&setLang=EN\n",
          "name": "stdout"
        }
      ]
    },
    {
      "metadata": {
        "trusted": true
      },
      "cell_type": "code",
      "source": "try:\n    conn = http.client.HTTPSConnection(service_url)\n    conn.request(\"POST\", endpoint, body, headers)\n    response = conn.getresponse()\n    jsonData = response.read().decode('UTF-8')\n    data = json.loads(jsonData)\n    for token in data['flaggedTokens']:\n        print('Change ' + token['token'] + ' for:')\n        for suggestion in token['suggestions']:\n            print('    ' + suggestion['suggestion'] + ' - ' + str(suggestion['score']))\n        print('----------------------------')\n    conn.close()\nexcept Exception as ex:\n    print(ex)",
      "execution_count": 10,
      "outputs": [
        {
          "output_type": "stream",
          "text": "Change homwork for:\n    homework - 0.8495452775382706\n----------------------------\n",
          "name": "stdout"
        }
      ]
    },
    {
      "metadata": {
        "trusted": false
      },
      "cell_type": "code",
      "source": "",
      "execution_count": null,
      "outputs": []
    }
  ],
  "metadata": {
    "kernelspec": {
      "name": "python36",
      "display_name": "Python 3.6",
      "language": "python"
    },
    "language_info": {
      "mimetype": "text/x-python",
      "nbconvert_exporter": "python",
      "name": "python",
      "pygments_lexer": "ipython3",
      "version": "3.6.6",
      "file_extension": ".py",
      "codemirror_mode": {
        "version": 3,
        "name": "ipython"
      }
    }
  },
  "nbformat": 4,
  "nbformat_minor": 2
}