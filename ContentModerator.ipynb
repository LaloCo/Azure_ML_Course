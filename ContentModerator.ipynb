{
  "cells": [
    {
      "metadata": {
        "trusted": true
      },
      "cell_type": "code",
      "source": "subscription_key = 'e68fa25614eb45d485c8fbaf609b2279'",
      "execution_count": 10,
      "outputs": []
    },
    {
      "metadata": {
        "trusted": true
      },
      "cell_type": "code",
      "source": "import urllib.parse\n\ntext_headers = {\n    'Ocp-Apim-Subscription-Key':subscription_key,\n    'Content-Type':'text/plain'\n}\n\ntext_body = \"Crap! No, it's not available any more, but you can contact me on username@domain.com or 7711552346 so we arrange an external (cheaper) payment\"\n\ntext_params = urllib.parse.urlencode({\n    'PII':True,\n    'classify':True\n})",
      "execution_count": 11,
      "outputs": []
    },
    {
      "metadata": {
        "trusted": true
      },
      "cell_type": "code",
      "source": "import http.client, json\n\ntry:\n    conn = http.client.HTTPSConnection('southcentralus.api.cognitive.microsoft.com')\n    conn.request('POST', '/contentmoderator/moderate/v1.0/ProcessText/Screen?%s' % text_params, text_body, text_headers)\n    response = conn.getresponse()\n    jsonData = response.read()\n    text_data = json.loads(jsonData)\n    print(json.dumps(text_data, indent=2))\n    conn.close()\nexcept Exception as ex:\n    print(ex)",
      "execution_count": 12,
      "outputs": [
        {
          "output_type": "stream",
          "text": "{\n  \"OriginalText\": \"Crap! No, it's not available any more, but you can contact me on username@domain.com or 7711552346 so we arrange an external (cheaper) payment\",\n  \"NormalizedText\": \"Crap! , 's  available  ,  you  contact   username@domain.com  7711552346   arrange  external (cheaper) payment\",\n  \"Misrepresentation\": null,\n  \"PII\": {\n    \"Email\": [\n      {\n        \"Detected\": \"username@domain.com\",\n        \"SubType\": \"Regular\",\n        \"Text\": \"username@domain.com\",\n        \"Index\": 65\n      }\n    ],\n    \"IPA\": [],\n    \"Phone\": [\n      {\n        \"CountryCode\": \"US\",\n        \"Text\": \"7711552346\",\n        \"Index\": 88\n      }\n    ],\n    \"Address\": [],\n    \"SSN\": []\n  },\n  \"Classification\": {\n    \"ReviewRecommended\": true,\n    \"Category1\": {\n      \"Score\": 0.001150581636466086\n    },\n    \"Category2\": {\n      \"Score\": 0.27872809767723083\n    },\n    \"Category3\": {\n      \"Score\": 0.9879999756813049\n    }\n  },\n  \"Language\": \"eng\",\n  \"Terms\": [\n    {\n      \"Index\": 0,\n      \"OriginalIndex\": 0,\n      \"ListId\": 0,\n      \"Term\": \"crap\"\n    }\n  ],\n  \"Status\": {\n    \"Code\": 3000,\n    \"Description\": \"OK\",\n    \"Exception\": null\n  },\n  \"TrackingId\": \"USSC_ibiza_67bd4fc0-23bb-4482-addc-83cc0a9f9a37_ContentModerator.F0_da14d7fb-6386-47d9-be33-7b4cba5b4329\"\n}\n",
          "name": "stdout"
        }
      ]
    },
    {
      "metadata": {
        "trusted": true
      },
      "cell_type": "code",
      "source": "moderatedText = text_data['OriginalText']\n\nfor term in text_data['Terms']:\n    old_text = moderatedText[term['Index']:term['Index']+len(term['Term'])]\n    new_text = '*' * len(old_text)\n    moderatedText = moderatedText.replace(old_text, new_text)\n    \nprint(moderatedText)",
      "execution_count": 13,
      "outputs": [
        {
          "output_type": "stream",
          "text": "****! No, it's not available any more, but you can contact me on username@domain.com or 7711552346 so we arrange an external (cheaper) payment\n",
          "name": "stdout"
        }
      ]
    },
    {
      "metadata": {
        "trusted": true
      },
      "cell_type": "code",
      "source": "image_evaluate_endpoint = \"/contentmoderator/moderate/v1.0/ProcessImage/Evaluate?%s\"\nimage_findface_endpoint = \"/contentmoderator/moderate/v1.0/ProcessImage/FindFaces?%s\"\nservice_url = \"southcentralus.api.cognitive.microsoft.com\"\nimage_evaluate_headers = {\n    'Ocp-Apim-Subscription-Key':subscription_key,\n    'Content-Type':'application/json'\n}\nimage_evaluate_body = {\n    'DataRepresentation':'URL',\n    'Value':'https://oralcancerfoundation.org/wp-content/uploads/2016/03/people.jpg'\n}\nimage_evaluate_params = urllib.parse.urlencode({\n    'CacheImage':True\n})\n\ntry:\n    conn = http.client.HTTPSConnection(service_url)\n    conn.request('POST', image_evaluate_endpoint % image_evaluate_params, str(image_evaluate_body), image_evaluate_headers)\n    response = conn.getresponse()\n    jsonData = response.read()\n    data = json.loads(jsonData)\n    print(json.dumps(data, indent=2))\n    conn.close()\nexcept Exception as ex:\n    print(ex)",
      "execution_count": 14,
      "outputs": [
        {
          "output_type": "stream",
          "text": "{\n  \"AdultClassificationScore\": 0.0029471837915480137,\n  \"IsImageAdultClassified\": false,\n  \"RacyClassificationScore\": 0.4608922302722931,\n  \"IsImageRacyClassified\": true,\n  \"Result\": true,\n  \"AdvancedInfo\": [\n    {\n      \"Key\": \"ImageDownloadTimeInMs\",\n      \"Value\": \"724\"\n    },\n    {\n      \"Key\": \"ImageSizeInBytes\",\n      \"Value\": \"167702\"\n    }\n  ],\n  \"Status\": {\n    \"Code\": 3000,\n    \"Description\": \"OK\",\n    \"Exception\": null\n  },\n  \"TrackingId\": \"USSC_ibiza_67bd4fc0-23bb-4482-addc-83cc0a9f9a37_ContentModerator.F0_bdae00bf-7040-4264-a8d6-b2dbaba2a5a5\",\n  \"CacheID\": \"b9dde1da-76f1-4565-8969-618490c790f6_637037470871095325\"\n}\n",
          "name": "stdout"
        }
      ]
    },
    {
      "metadata": {
        "trusted": true
      },
      "cell_type": "code",
      "source": "try:\n    conn = http.client.HTTPSConnection(service_url)\n    conn.request('POST', image_findface_endpoint % image_evaluate_params, str(image_evaluate_body), image_evaluate_headers)\n    response = conn.getresponse()\n    jsonData = response.read()\n    data = json.loads(jsonData)\n    print(json.dumps(data, indent=2))\n    conn.close()\nexcept Exception as ex:\n    print(ex)",
      "execution_count": 15,
      "outputs": [
        {
          "output_type": "stream",
          "text": "{\n  \"Faces\": [\n    {\n      \"Left\": 72,\n      \"Right\": 110,\n      \"Top\": 84,\n      \"Bottom\": 122\n    },\n    {\n      \"Left\": 128,\n      \"Right\": 166,\n      \"Top\": 96,\n      \"Bottom\": 134\n    },\n    {\n      \"Left\": 204,\n      \"Right\": 242,\n      \"Top\": 96,\n      \"Bottom\": 134\n    },\n    {\n      \"Left\": 256,\n      \"Right\": 294,\n      \"Top\": 108,\n      \"Bottom\": 146\n    },\n    {\n      \"Left\": 272,\n      \"Right\": 310,\n      \"Top\": 160,\n      \"Bottom\": 198\n    },\n    {\n      \"Left\": 316,\n      \"Right\": 354,\n      \"Top\": 124,\n      \"Bottom\": 162\n    },\n    {\n      \"Left\": 370,\n      \"Right\": 394,\n      \"Top\": 82,\n      \"Bottom\": 106\n    },\n    {\n      \"Left\": 400,\n      \"Right\": 438,\n      \"Top\": 140,\n      \"Bottom\": 178\n    },\n    {\n      \"Left\": 436,\n      \"Right\": 474,\n      \"Top\": 104,\n      \"Bottom\": 142\n    }\n  ],\n  \"Count\": 9,\n  \"Result\": true,\n  \"AdvancedInfo\": [\n    {\n      \"Key\": \"ImageDownloadTimeInMs\",\n      \"Value\": \"373\"\n    },\n    {\n      \"Key\": \"ImageSizeInBytes\",\n      \"Value\": \"167702\"\n    }\n  ],\n  \"Status\": {\n    \"Code\": 3000,\n    \"Description\": \"OK\",\n    \"Exception\": null\n  },\n  \"TrackingId\": \"USSC_ibiza_67bd4fc0-23bb-4482-addc-83cc0a9f9a37_ContentModerator.F0_ae78a873-5a05-446e-a9b9-e521424fa13a\",\n  \"CacheID\": \"8d9ff92c-6055-4852-9e25-1abf2d8ebae7_637037471043647255\"\n}\n",
          "name": "stdout"
        }
      ]
    },
    {
      "metadata": {
        "trusted": true
      },
      "cell_type": "code",
      "source": "job_params = urllib.parse.urlencode({\n    'WorkflowName':'isracyoradult',\n    'ContentType':'Image',\n    'ContentId':'image1'\n})\njob_endpoint = '/contentmoderator/review/v1.0/teams/LPA/jobs?%s' % job_params\njob_headers = {\n    'Ocp-Apim-Subscription-Key':subscription_key,\n    'Content-Type':'application/json',\n    'Accept':'application/json'\n}\njob_body = {\n    'ContentValue':'https://oralcancerfoundation.org/wp-content/uploads/2016/03/people.jpg'\n}\n\ntry:\n    conn = http.client.HTTPSConnection(service_url)\n    conn.request('POST', job_endpoint, str(job_body), job_headers)\n    response = conn.getresponse()\n    jsonData = response.read()\n    job_data = json.loads(jsonData)\n    print(json.dumps(job_data, indent=2))\n    conn.close()\nexcept Exception as ex:\n    print(ex)",
      "execution_count": 24,
      "outputs": [
        {
          "output_type": "stream",
          "text": "{\n  \"JobId\": \"201909a0016a8c174a4312a7b51edfa3877976\"\n}\n",
          "name": "stdout"
        }
      ]
    },
    {
      "metadata": {
        "trusted": false
      },
      "cell_type": "code",
      "source": "#201808ec1e1ec6e8234b3e9784e66f4130d8ff\nget_job_endpoint = '/contentmoderator/review/v1.0/teams/LPA/jobs/' + job_data['JobId']\nget_job_headers = {\n    'Ocp-Apim-Subscription-Key':subscription_key\n}\n\ntry:\n    conn = http.client.HTTPSConnection(service_url)\n    conn.request('GET', get_job_endpoint, '', get_job_headers)\n    response = conn.getresponse()\n    jsonData = response.read()\n    get_job_data = json.loads(jsonData)\n    print(json.dumps(get_job_data, indent=2))\n    conn.close()\nexcept Exception as ex:\n    print(ex)",
      "execution_count": 28,
      "outputs": [
        {
          "name": "stdout",
          "output_type": "stream",
          "text": "{\n  \"Id\": \"20180866d687b6145c4fba9087931f8eac4d9a\",\n  \"TeamName\": \"lpa\",\n  \"Status\": \"Complete\",\n  \"WorkflowId\": \"isracyoradult\",\n  \"Type\": \"Image\",\n  \"CallBackEndpoint\": \"\",\n  \"ReviewId\": \"201808ied0103b9bb1e451593cb2fe1207cbb8a\",\n  \"ResultMetaData\": [\n    {\n      \"Key\": \"adultScore\",\n      \"Value\": \"0.003\"\n    },\n    {\n      \"Key\": \"isAdult\",\n      \"Value\": \"False\"\n    },\n    {\n      \"Key\": \"racyScore\",\n      \"Value\": \"0.461\"\n    },\n    {\n      \"Key\": \"isRacy\",\n      \"Value\": \"True\"\n    }\n  ],\n  \"JobExecutionReport\": [\n    {\n      \"Ts\": \"2018-08-06T11:30:18.6709148\",\n      \"Msg\": \"Job marked completed and job content has been removed\"\n    },\n    {\n      \"Ts\": \"2018-08-06T11:30:18.5487995\",\n      \"Msg\": \"Execution Complete\"\n    },\n    {\n      \"Ts\": \"2018-08-06T11:30:18.2074761\",\n      \"Msg\": \"Successfully got isRacy response from Moderator\"\n    },\n    {\n      \"Ts\": \"2018-08-06T11:30:17.7430348\",\n      \"Msg\": \"Getting isRacy from Moderator\"\n    },\n    {\n      \"Ts\": \"2018-08-06T11:30:17.5108151\",\n      \"Msg\": \"Starting Execution - Try 1\"\n    }\n  ]\n}\n"
        }
      ]
    },
    {
      "metadata": {
        "trusted": false
      },
      "cell_type": "code",
      "source": "get_review_endpoint = '/contentmoderator/review/v1.0/teams/LPA/reviews/' + get_job_data['ReviewId']\nget_review_headers = {\n    'Ocp-Apim-Subscription-Key':subscription_key\n}\n\ntry:\n    conn = http.client.HTTPSConnection(service_url)\n    conn.request('GET', get_review_endpoint, '', get_review_headers)\n    response = conn.getresponse()\n    jsonData = response.read()\n    get_review_data = json.loads(jsonData)\n    print(json.dumps(get_review_data, indent=2))\n    conn.close()\nexcept Exception as ex:\n    print(ex)",
      "execution_count": 30,
      "outputs": [
        {
          "name": "stdout",
          "output_type": "stream",
          "text": "{\n  \"ReviewId\": \"201808ied0103b9bb1e451593cb2fe1207cbb8a\",\n  \"SubTeam\": \"public\",\n  \"CreatedBy\": \"lpa\",\n  \"Metadata\": [\n    {\n      \"Key\": \"adultScore\",\n      \"Value\": \"0.003\"\n    },\n    {\n      \"Key\": \"isAdult\",\n      \"Value\": \"False\"\n    },\n    {\n      \"Key\": \"racyScore\",\n      \"Value\": \"0.461\"\n    },\n    {\n      \"Key\": \"isRacy\",\n      \"Value\": \"True\"\n    },\n    {\n      \"Key\": \"ImageName\",\n      \"Value\": \"image1\"\n    }\n  ],\n  \"ReviewerResultTags\": [\n    {\n      \"Key\": \"a\",\n      \"Value\": \"False\"\n    },\n    {\n      \"Key\": \"r\",\n      \"Value\": \"False\"\n    }\n  ],\n  \"Type\": \"Image\",\n  \"Content\": \"\",\n  \"ContentId\": \"image1\",\n  \"CallbackEndpoint\": \"\",\n  \"Status\": \"Complete\"\n}\n"
        }
      ]
    }
  ],
  "metadata": {
    "kernelspec": {
      "name": "python36",
      "display_name": "Python 3.6",
      "language": "python"
    },
    "language_info": {
      "mimetype": "text/x-python",
      "nbconvert_exporter": "python",
      "name": "python",
      "pygments_lexer": "ipython3",
      "version": "3.6.6",
      "file_extension": ".py",
      "codemirror_mode": {
        "version": 3,
        "name": "ipython"
      }
    }
  },
  "nbformat": 4,
  "nbformat_minor": 2
}