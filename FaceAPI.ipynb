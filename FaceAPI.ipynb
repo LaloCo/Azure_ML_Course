{
  "cells": [
    {
      "metadata": {
        "trusted": true
      },
      "cell_type": "code",
      "source": "subscription_key = '9a3169f5102c4616a966b0eb37073441'",
      "execution_count": 2,
      "outputs": []
    },
    {
      "metadata": {
        "trusted": true
      },
      "cell_type": "code",
      "source": "import urllib.parse, http.client, json\n\nheaders = {\n    'Ocp-Apim-Subscription-Key':subscription_key,\n    'Content-Type':'application/json'\n}\n\nbody = {\n    'url':'https://static.independent.co.uk/s3fs-public/thumbnails/image/2018/04/24/15/angela-merkel.jpg'\n}\n\nparams = urllib.parse.urlencode({\n    'returnFaceId':True,\n    'returnFaceLandmarks':True,\n    'returnFaceAttributes':'age,gender,makeup,smile,glasses,accessories,emotion'\n})\n\nurl = 'southcentralus.api.cognitive.microsoft.com'\n\nendpoint = '/face/v1.0/detect?%s'\n\ntry:\n    conn = http.client.HTTPSConnection(url)\n    conn.request('POST', endpoint % params, str(body), headers)\n    response = conn.getresponse()\n    jsonData = response.read()\n    data = json.loads(jsonData)\n    detect_face_id = data[0]['faceId']\n    print(detect_face_id)\n    print(json.dumps(data, sort_keys=True, indent=2))\n    conn.close()\nexcept Exception as ex:\n    print(ex)",
      "execution_count": 3,
      "outputs": [
        {
          "output_type": "stream",
          "text": "0\n",
          "name": "stdout"
        }
      ]
    },
    {
      "metadata": {
        "trusted": false
      },
      "cell_type": "code",
      "source": "group_id = 'random_people'\n\ngroup_body = {\n    'name':'Random People'\n}\n\ntry:\n    conn = http.client.HTTPSConnection('southcentralus.api.cognitive.microsoft.com')\n    conn.request('PUT', '/face/v1.0/persongroups/%s' % group_id, str(group_body), headers)\n    response = conn.getresponse()\n    data = response.read()\n    print(data)\n    conn.close()\nexcept Exception as ex:\n    print(ex)",
      "execution_count": 28,
      "outputs": [
        {
          "name": "stdout",
          "output_type": "stream",
          "text": "b'{\"error\":{\"code\":\"PersonGroupExists\",\"message\":\"Person group \\'random_people\\' already exists.\"}}'\n"
        }
      ]
    },
    {
      "metadata": {
        "trusted": false
      },
      "cell_type": "code",
      "source": "person_body = {\n    'name':'Elizabeth'\n}\n\nperson_endpoint = '/face/v1.0/persongroups/{0}/persons'.format(group_id)\n\ntry:\n    conn = http.client.HTTPSConnection('southcentralus.api.cognitive.microsoft.com')\n    conn.request('POST', person_endpoint, str(person_body), headers)\n    response = conn.getresponse()\n    jsonData = response.read()\n    data = json.loads(jsonData)\n    print(data)\n    conn.close()\nexcept Exception as ex:\n    print(ex)",
      "execution_count": 33,
      "outputs": [
        {
          "name": "stdout",
          "output_type": "stream",
          "text": "{'personId': '30969c57-3c95-49bc-a259-edb87a0fe777'}\n"
        }
      ]
    },
    {
      "metadata": {
        "trusted": false
      },
      "cell_type": "code",
      "source": "try:\n    conn = http.client.HTTPSConnection('southcentralus.api.cognitive.microsoft.com')\n    conn.request('GET', person_endpoint, \"\", headers)\n    response = conn.getresponse()\n    jsonData = response.read()\n    person_data = json.loads(jsonData)\n    print(person_data)\n    conn.close()\nexcept Exception as ex:\n    print(ex)",
      "execution_count": 42,
      "outputs": [
        {
          "name": "stdout",
          "output_type": "stream",
          "text": "[{'personId': '775386ff-f289-4437-8154-19633a84006c', 'persistedFaceIds': ['831ef8a7-d9c3-40d5-a053-dbabd343eb0f', '967c19e4-d132-41b4-88dd-fd8f32bd7671', 'fff4242b-17ea-4bee-bf75-5e27ee54de43'], 'name': 'Bill', 'userData': None}, {'personId': 'b07f3b93-f078-4693-a00f-83b17cdf5f53', 'persistedFaceIds': ['8975dc7c-e732-4d68-897e-dcb9d200bdd2', 'bad76363-fd56-4915-8fd7-ea5348130604', 'e99ea0f1-96ac-4563-946a-4f427649e91d'], 'name': 'Angela', 'userData': None}, {'personId': 'f9e5cf62-de93-417a-90bb-3ced82e276a0', 'persistedFaceIds': ['6e28411e-4642-462d-a05a-f23135e8d36d', 'a33d477f-da3d-4366-98d0-4685e11d4921', 'b630a085-14cd-440f-9fa5-0db525f677b3'], 'name': 'Elizabeth', 'userData': None}]\n"
        }
      ]
    },
    {
      "metadata": {
        "trusted": false
      },
      "cell_type": "code",
      "source": "try:\n    conn = http.client.HTTPSConnection('southcentralus.api.cognitive.microsoft.com')\n    conn.request('DELETE', person_endpoint+\"/30969c57-3c95-49bc-a259-edb87a0fe777\", \"\", headers)\n    response = conn.getresponse()\n    jsonData = response.read()\n    print(jsonData)\n    conn.close()\nexcept Exception as ex:\n    print(ex)",
      "execution_count": 35,
      "outputs": [
        {
          "name": "stdout",
          "output_type": "stream",
          "text": "b''\n"
        }
      ]
    },
    {
      "metadata": {
        "trusted": false
      },
      "cell_type": "code",
      "source": "import os\n\nperson_group_id = 'random_people'\n\nface_headers = {\n    'Ocp-Apim-Subscription-Key':subscription_key,\n    'Content-Type':'application/octet-stream'\n}\n\nfor person in person_data:\n    face_endpoint = '/face/v1.0/persongroups/{0}/persons/{1}/persistedFaces'.format(person_group_id, person['personId'])\n    for file in os.listdir('People/'+person['name']):\n        with open('People/{0}/{1}'.format(person['name'],file), 'rb') as face_body:\n            conn = http.client.HTTPSConnection('southcentralus.api.cognitive.microsoft.com')\n            conn.request('POST', face_endpoint, face_body, face_headers)\n            response = conn.getresponse()\n            jsonData = response.read()\n            data = json.loads(jsonData)\n            print(data)\n            conn.close()",
      "execution_count": 22,
      "outputs": [
        {
          "name": "stdout",
          "output_type": "stream",
          "text": "{'persistedFaceId': '967c19e4-d132-41b4-88dd-fd8f32bd7671'}\n{'persistedFaceId': '831ef8a7-d9c3-40d5-a053-dbabd343eb0f'}\n{'persistedFaceId': 'fff4242b-17ea-4bee-bf75-5e27ee54de43'}\n{'persistedFaceId': 'bad76363-fd56-4915-8fd7-ea5348130604'}\n{'persistedFaceId': 'e99ea0f1-96ac-4563-946a-4f427649e91d'}\n{'persistedFaceId': '8975dc7c-e732-4d68-897e-dcb9d200bdd2'}\n{'persistedFaceId': '6e28411e-4642-462d-a05a-f23135e8d36d'}\n{'persistedFaceId': 'b630a085-14cd-440f-9fa5-0db525f677b3'}\n{'persistedFaceId': 'a33d477f-da3d-4366-98d0-4685e11d4921'}\n"
        }
      ]
    },
    {
      "metadata": {
        "trusted": false
      },
      "cell_type": "code",
      "source": "train_headers = {\n    'Ocp-Apim-Subscription-Key':subscription_key\n}\ntrain_endpoint = '/face/v1.0/persongroups/{0}/train'.format(person_group_id)\n\ntry:\n    conn = http.client.HTTPSConnection('southcentralus.api.cognitive.microsoft.com')\n    conn.request('POST', train_endpoint, '', train_headers)\n    response = conn.getresponse()\n    data = response.read()\n    print(data)\n    conn.close()\nexcept Exception as ex:\n    print(ex)",
      "execution_count": 37,
      "outputs": [
        {
          "name": "stdout",
          "output_type": "stream",
          "text": "b''\n"
        }
      ]
    },
    {
      "metadata": {
        "trusted": false
      },
      "cell_type": "code",
      "source": "identify_endpoint = '/face/v1.0/identify'\n\nidentify_headers = {\n    'Ocp-Apim-Subscription-Key':subscription_key\n}\n\nidentify_body = {\n    'faceIds':[detect_face_id],\n    'personGroupId':person_group_id\n}\n\ntry:\n    conn = http.client.HTTPSConnection('southcentralus.api.cognitive.microsoft.com')\n    conn.request('POST', identify_endpoint, str(identify_body), identify_headers)\n    response = conn.getresponse()\n    jsonData = response.read()\n    data = json.loads(jsonData)\n    print(data)\n    conn.close()\nexcept Exception as ex:\n    print(ex)",
      "execution_count": 46,
      "outputs": [
        {
          "name": "stdout",
          "output_type": "stream",
          "text": "[{'faceId': '7937a3a2-acfd-4049-b6cf-bdcd317d4561', 'candidates': [{'personId': 'b07f3b93-f078-4693-a00f-83b17cdf5f53', 'confidence': 0.71093}]}]\n"
        }
      ]
    },
    {
      "metadata": {
        "trusted": false
      },
      "cell_type": "code",
      "source": "print(person_data)",
      "execution_count": 47,
      "outputs": [
        {
          "name": "stdout",
          "output_type": "stream",
          "text": "[{'personId': '775386ff-f289-4437-8154-19633a84006c', 'persistedFaceIds': ['831ef8a7-d9c3-40d5-a053-dbabd343eb0f', '967c19e4-d132-41b4-88dd-fd8f32bd7671', 'fff4242b-17ea-4bee-bf75-5e27ee54de43'], 'name': 'Bill', 'userData': None}, {'personId': 'b07f3b93-f078-4693-a00f-83b17cdf5f53', 'persistedFaceIds': ['8975dc7c-e732-4d68-897e-dcb9d200bdd2', 'bad76363-fd56-4915-8fd7-ea5348130604', 'e99ea0f1-96ac-4563-946a-4f427649e91d'], 'name': 'Angela', 'userData': None}, {'personId': 'f9e5cf62-de93-417a-90bb-3ced82e276a0', 'persistedFaceIds': ['6e28411e-4642-462d-a05a-f23135e8d36d', 'a33d477f-da3d-4366-98d0-4685e11d4921', 'b630a085-14cd-440f-9fa5-0db525f677b3'], 'name': 'Elizabeth', 'userData': None}]\n"
        }
      ]
    },
    {
      "metadata": {
        "trusted": false
      },
      "cell_type": "code",
      "source": "identified_person = data[0]\nfound = False\nfor candidate in identified_person['candidates']:\n    for person in person_data:\n        if(person['personId'] == candidate['personId']):\n            print('FOUND IT!')\n            print('This is ' + person['name'])\n            found = True\n            \nif(found == False):\n    print('This person could not be identified')",
      "execution_count": 48,
      "outputs": [
        {
          "name": "stdout",
          "output_type": "stream",
          "text": "FOUND IT!\nThis is Angela\n"
        }
      ]
    },
    {
      "metadata": {
        "trusted": false
      },
      "cell_type": "code",
      "source": "",
      "execution_count": null,
      "outputs": []
    }
  ],
  "metadata": {
    "kernelspec": {
      "name": "python36",
      "display_name": "Python 3.6",
      "language": "python"
    },
    "language_info": {
      "mimetype": "text/x-python",
      "nbconvert_exporter": "python",
      "name": "python",
      "pygments_lexer": "ipython3",
      "version": "3.6.6",
      "file_extension": ".py",
      "codemirror_mode": {
        "version": 3,
        "name": "ipython"
      }
    }
  },
  "nbformat": 4,
  "nbformat_minor": 2
}