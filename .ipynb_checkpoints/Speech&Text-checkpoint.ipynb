{
 "cells": [
  {
   "cell_type": "code",
   "execution_count": 1,
   "metadata": {},
   "outputs": [
    {
     "name": "stdout",
     "output_type": "stream",
     "text": [
      "Requirement already satisfied: speechRecognition in /anaconda3/lib/python3.6/site-packages (3.8.1)\n",
      "\u001b[31mdistributed 1.21.8 requires msgpack, which is not installed.\u001b[0m\n",
      "Updating Homebrew...\n",
      "\u001b[34m==>\u001b[0m \u001b[1mAuto-updated Homebrew!\u001b[0m\n",
      "Updated 1 tap (homebrew/core).\n",
      "\u001b[34m==>\u001b[0m \u001b[1mUpdated Formulae\u001b[0m\n",
      "aircrack-ng                igv                        ocamlsdl\n",
      "bind                       influxdb                   ocrmypdf\n",
      "bit                        jfrog-cli-go               percona-server-mongodb\n",
      "bzt                        json-fortran               pilosa\n",
      "camlp4                     knot                       prest\n",
      "camlp5                     lablgtk                    rust\n",
      "certbot                    libtensorflow              sbtenv\n",
      "chakra                     lua                        schema-evolution-manager\n",
      "curl                       lynx                       terragrunt\n",
      "dmd                        meson                      trash\n",
      "dnsdist                    mkl-dnn                    webpack\n",
      "e2fsprogs                  mongodb@3.6                xmrig\n",
      "elvish                     nginx                      xonsh\n",
      "fn                         nuget                      yaz\n",
      "git-ftp                    ocaml                      ykman\n",
      "goreleaser                 ocaml-num                  yq\n",
      "harfbuzz                   ocamlbuild\n",
      "\n",
      "\u001b[33mWarning:\u001b[0m portaudio 19.6.0 is already installed and up-to-date\n",
      "To reinstall 19.6.0, run `brew reinstall portaudio`\n",
      "Requirement already satisfied: pyaudio in /anaconda3/lib/python3.6/site-packages (0.2.11)\n",
      "\u001b[31mdistributed 1.21.8 requires msgpack, which is not installed.\u001b[0m\n"
     ]
    }
   ],
   "source": [
    "!pip install speechRecognition\n",
    "!brew install portaudio\n",
    "!pip install pyaudio"
   ]
  },
  {
   "cell_type": "code",
   "execution_count": 9,
   "metadata": {},
   "outputs": [
    {
     "name": "stdout",
     "output_type": "stream",
     "text": [
      "Here's what I heard:\n",
      "Y después de unos segundos mientras seguimos hablando empezamos a recibir esos datos.\n"
     ]
    }
   ],
   "source": [
    "import speech_recognition as sr\n",
    "\n",
    "r = sr.Recognizer()\n",
    "#with sr.Microphone() as source:\n",
    "#    print('Say something!')\n",
    "#    audio = r.listen(source)\n",
    "    \n",
    "with sr.AudioFile('b566e05786174f66bb0045d474ba5ec2/tts_3.wav') as source:\n",
    "    audio = r.record(source)\n",
    "    \n",
    "try:\n",
    "    text = r.recognize_bing(audio, key='3a21c75c69f941c69bf672dec70bab4e', language='es-MX')\n",
    "    print(\"Here's what I heard:\")\n",
    "    print(text)\n",
    "except sr.UnknownValueError:\n",
    "    print(\"I'm sorry, I didn't catch that\")\n",
    "except sr.RequestError as re:\n",
    "    print(re)\n",
    "except Exception as e:\n",
    "    print(e)"
   ]
  },
  {
   "cell_type": "code",
   "execution_count": 81,
   "metadata": {},
   "outputs": [],
   "source": [
    "import requests\n",
    "from datetime import timedelta\n",
    "from datetime import datetime\n",
    "\n",
    "key = '3a21c75c69f941c69bf672dec70bab4e'\n",
    "\n",
    "token = None\n",
    "valid_until = datetime.utcnow() + timedelta(minutes=-8)\n",
    "def get_token(key, token, valid_until):\n",
    "    if token is None or (datetime.utcnow() > valid_until):\n",
    "        url = 'https://api.cognitive.microsoft.com/sts/v1.0/issueToken'\n",
    "        headers = {\n",
    "            'Ocp-Apim-Subscription-Key':key\n",
    "        }\n",
    "        \n",
    "        response = requests.post(url, headers=headers)\n",
    "        \n",
    "        token = response.content\n",
    "        valid_until = datetime.utcnow() + timedelta(minutes=8)\n",
    "    return token"
   ]
  },
  {
   "cell_type": "code",
   "execution_count": 82,
   "metadata": {},
   "outputs": [
    {
     "name": "stdout",
     "output_type": "stream",
     "text": [
      "b'eyJhbGciOiJodHRwOi8vd3d3LnczLm9yZy8yMDAxLzA0L3htbGRzaWctbW9yZSNobWFjLXNoYTI1NiIsInR5cCI6IkpXVCJ9.eyJpc3MiOiJ1cm46bXMuY29nbml0aXZlc2VydmljZXMiLCJleHAiOiIxNTMyMTcyOTczIiwicmVnaW9uIjoiZ2xvYmFsIiwic3Vic2NyaXB0aW9uLWlkIjoiNTNjMWEyYTdhY2EzNDA2YWFhMGU2MDlhMjRiODUyNjgiLCJwcm9kdWN0LWlkIjoiQmluZy5TcGVlY2guRjAiLCJjb2duaXRpdmUtc2VydmljZXMtZW5kcG9pbnQiOiJodHRwczovL2FwaS5jb2duaXRpdmUubWljcm9zb2Z0LmNvbS9pbnRlcm5hbC92MS4wLyIsImF6dXJlLXJlc291cmNlLWlkIjoiL3N1YnNjcmlwdGlvbnMvMTAyYTMyNTgtYWIxMy00ZjI0LTgyMDQtNzcwNzFjZTY2Yjk3L3Jlc291cmNlR3JvdXBzL0xQQV9BenVyZU1ML3Byb3ZpZGVycy9NaWNyb3NvZnQuQ29nbml0aXZlU2VydmljZXMvYWNjb3VudHMvQmluZ1NwZWVjaCIsInNjb3BlIjoiaHR0cHM6Ly9zcGVlY2gucGxhdGZvcm0uYmluZy5jb20iLCJhdWQiOiJ1cm46bXMuc3BlZWNoIn0.BWgao1-MTyLnIjPZSxu7kQqJWqOnEGeZA0gOMED1FwQ'\n"
     ]
    }
   ],
   "source": [
    "token = get_token(key, token, valid_until)\n",
    "print(token)\n",
    "\n",
    "headers = {\n",
    "    'Content-Type':'application/ssml+xml',\n",
    "    'X-Microsoft-OutputFormat':'audio-16khz-64kbitrate-mono-mp3',\n",
    "    'Authorization':token\n",
    "}\n",
    "\n",
    "body = \"<speak version='1.0' xml:lang='en-US'><voice xml:lang='en-US' xml:gender='Female' name='Microsoft Server Speech Text to Speech Voice (en-US, ZiraRUS)'>I am going to make him an offer he cannot refuse.</voice></speak>\"\n",
    "\n",
    "url = 'https://speech.platform.bing.com/synthesize'\n",
    "\n",
    "response = requests.post(url, headers=headers, data=body)\n",
    "\n",
    "file = open('offer.mp3', 'wb')\n",
    "file.write(response.content)\n",
    "file.close()"
   ]
  },
  {
   "cell_type": "code",
   "execution_count": 51,
   "metadata": {},
   "outputs": [
    {
     "name": "stdout",
     "output_type": "stream",
     "text": [
      "i am going to make him an offer he cannot refuse\n"
     ]
    }
   ],
   "source": [
    "import http.client, urllib.request, urllib.parse, urllib.error, base64, json\n",
    "\n",
    "headers = {\n",
    "    \"Ocp-Apim-Subscription-Key\":\"e6f322a280b142e1a0468e518ff60d03\"\n",
    "}\n",
    "\n",
    "params = urllib.parse.urlencode({\n",
    "    'locale':'en-US'\n",
    "})\n",
    "\n",
    "try:\n",
    "    conn = http.client.HTTPSConnection(\"westus.api.cognitive.microsoft.com\")\n",
    "    conn.request('GET', '/spid/v1.0/verificationPhrases?%s' % params, \"{body}\", headers)\n",
    "    response = conn.getresponse()\n",
    "    jsonData = response.read()\n",
    "    data = json.loads(jsonData)\n",
    "    print(data[0]['phrase'])\n",
    "    conn.close()\n",
    "except Exception as ex:\n",
    "    print(ex)"
   ]
  },
  {
   "cell_type": "code",
   "execution_count": 59,
   "metadata": {},
   "outputs": [
    {
     "name": "stdout",
     "output_type": "stream",
     "text": [
      "242b8e1b-893d-4958-afdb-747f032a8e15\n"
     ]
    }
   ],
   "source": [
    "headers_profile = {\n",
    "    \"Ocp-Apim-Subscription-Key\":\"e6f322a280b142e1a0468e518ff60d03\",\n",
    "    \"Content-Type\":\"application/json\"\n",
    "}\n",
    "\n",
    "body_profile = {\n",
    "    \"locale\":\"en-US\"\n",
    "}\n",
    "\n",
    "params_profile = urllib.parse.urlencode({\n",
    "})\n",
    "\n",
    "verificationProfileId = \"\"\n",
    "\n",
    "try:\n",
    "    conn = http.client.HTTPSConnection(\"westus.api.cognitive.microsoft.com\")\n",
    "    conn.request(\"POST\", \"/spid/v1.0/verificationProfiles?%s\" % params_profile, str(body_profile), headers_profile)\n",
    "    response = conn.getresponse()\n",
    "    jsonData = response.read()\n",
    "    data = json.loads(jsonData)\n",
    "    verificationProfileId = data[\"verificationProfileId\"]\n",
    "    print(data[\"verificationProfileId\"])\n",
    "    conn.close()\n",
    "except Exception as ex:\n",
    "    print(ex)"
   ]
  },
  {
   "cell_type": "code",
   "execution_count": 60,
   "metadata": {},
   "outputs": [
    {
     "name": "stdout",
     "output_type": "stream",
     "text": [
      "242b8e1b-893d-4958-afdb-747f032a8e15\n"
     ]
    }
   ],
   "source": [
    "print(verificationProfileId)"
   ]
  },
  {
   "cell_type": "code",
   "execution_count": 76,
   "metadata": {},
   "outputs": [
    {
     "data": {
      "text/plain": [
       "'\\naudio_file_name = \"audio.wav\"\\ncreate_audio_file(audio_file_name)\\nwith open(audio_file_name, \"rb\") as body:\\n    endpoint = \"/spid/v1.0/verificationProfiles/{0}/enroll\".format(verificationProfileId)\\n    conn = http.client.HTTPSConnection(\"westus.api.cognitive.microsoft.com\")\\n    conn.request(\"POST\", endpoint, body, headers_enrollment)\\n    response = conn.getresponse()\\n    jsonData = response.read()\\n    data = json.loads(jsonData)\\n    print(data)\\n    conn.close()\\n'"
      ]
     },
     "execution_count": 76,
     "metadata": {},
     "output_type": "execute_result"
    }
   ],
   "source": [
    "import pyaudio, wave, struct\n",
    "from array import array\n",
    "\n",
    "headers_enrollment = {\n",
    "    \"Ocp-Apim-Subscription-Key\":\"e6f322a280b142e1a0468e518ff60d03\",\n",
    "    \"Content-Type\":\"multipart/form-data\",\n",
    "    \"Accept\":\"application/json\"\n",
    "}\n",
    "\n",
    "def create_audio_file(audio_file_name):\n",
    "    CHUNK = 1024\n",
    "    FORMAT = pyaudio.paInt16\n",
    "    CHANNELS = 1\n",
    "    RATE = 16000\n",
    "    RECORD_SECONDS = 5\n",
    "    BYTES_PER_SAMPLE = 2\n",
    "\n",
    "    p = pyaudio.PyAudio()\n",
    "\n",
    "    stream = p.open(format=FORMAT,\n",
    "                   channels=CHANNELS,\n",
    "                   rate=RATE,\n",
    "                   input=True,\n",
    "                   output=True,\n",
    "                   frames_per_buffer=CHUNK)\n",
    "\n",
    "    wav = array('h')\n",
    "    wav.extend(str.encode(\"RIFF\"))\n",
    "    wav.extend(struct.pack('<L', 0))\n",
    "    wav.extend(str.encode('WAVE'))\n",
    "    wav.extend(str.encode('fmt'))\n",
    "    wav.extend(struct.pack('<L', 16))\n",
    "    wav.extend(struct.pack('<H', 1))\n",
    "    wav.extend(struct.pack('<H', CHANNELS))\n",
    "    wav.extend(struct.pack('<L', RATE))\n",
    "    wav.extend(struct.pack('<L', RATE * CHANNELS * BYTES_PER_SAMPLE))\n",
    "    wav.extend(struct.pack('<H', CHANNELS * BYTES_PER_SAMPLE))\n",
    "    wav.extend(struct.pack('<H', BYTES_PER_SAMPLE * 8))\n",
    "    wav.extend(str.encode('data'))\n",
    "    wav.extend(struct.pack('<L', 0))\n",
    "\n",
    "    for i in range(0, RATE // CHUNK * RECORD_SECONDS):\n",
    "        audio = array('h', stream.read(CHUNK, exception_on_overflow=False))\n",
    "        wav.extend(audio)\n",
    "\n",
    "    wav_width = p.get_sample_size(FORMAT)\n",
    "    stream.stop_stream()\n",
    "    stream.close()\n",
    "    p.terminate()\n",
    "\n",
    "    data = struct.pack('<' + ('h'*len(wav)), *wav)\n",
    "    file = wave.open(audio_file_name, \"wb\")\n",
    "    file.setnchannels(CHANNELS)\n",
    "    file.setsampwidth(wav_width)\n",
    "    file.setframerate(RATE)\n",
    "    file.writeframes(data)\n",
    "    file.close()\n",
    "\n",
    "'''\n",
    "audio_file_name = \"audio.wav\"\n",
    "create_audio_file(audio_file_name)\n",
    "with open(audio_file_name, \"rb\") as body:\n",
    "    endpoint = \"/spid/v1.0/verificationProfiles/{0}/enroll\".format(verificationProfileId)\n",
    "    conn = http.client.HTTPSConnection(\"westus.api.cognitive.microsoft.com\")\n",
    "    conn.request(\"POST\", endpoint, body, headers_enrollment)\n",
    "    response = conn.getresponse()\n",
    "    jsonData = response.read()\n",
    "    data = json.loads(jsonData)\n",
    "    print(data)\n",
    "    conn.close()\n",
    "'''"
   ]
  },
  {
   "cell_type": "code",
   "execution_count": 77,
   "metadata": {},
   "outputs": [],
   "source": [
    "def get_profile_id():\n",
    "    get_profiles_headers = {\n",
    "        'Ocp-Apim-Subscription-Key':\"e6f322a280b142e1a0468e518ff60d03\"\n",
    "    }\n",
    "\n",
    "    get_profile_params = urllib.parse.urlencode({\n",
    "    })\n",
    "\n",
    "    try:\n",
    "        conn = http.client.HTTPSConnection(\"westus.api.cognitive.microsoft.com\")\n",
    "        conn.request(\"GET\", \"/spid/v1.0/verificationProfiles?%s\" % get_profile_params, \"{body}\", get_profiles_headers)\n",
    "        response = conn.getresponse()\n",
    "        jsonData = response.read()\n",
    "        data = json.loads(jsonData)\n",
    "        print(data)\n",
    "        return data[0]['verificationProfileId']\n",
    "        '''\n",
    "        for verificationProfile in data:\n",
    "            if(verificationProfile[\"verificationProfileId\"] != \"242b8e1b-893d-4958-afdb-747f032a8e15\"):\n",
    "                conn.request(\"DELETE\", \"/spid/v1.0/verificationProfiles/\" + verificationProfile[\"verificationProfileId\"], \"{body}\", get_profiles_headers)\n",
    "                response = conn.getresponse()\n",
    "                print(response)\n",
    "        '''\n",
    "        conn.close()\n",
    "    except Exception as ex:\n",
    "        print(ex)\n",
    "        return \"\""
   ]
  },
  {
   "cell_type": "code",
   "execution_count": 84,
   "metadata": {},
   "outputs": [
    {
     "name": "stdout",
     "output_type": "stream",
     "text": [
      "[{'verificationProfileId': '242b8e1b-893d-4958-afdb-747f032a8e15', 'locale': 'en-us', 'enrollmentsCount': 3, 'remainingEnrollmentsCount': 0, 'createdDateTime': '2018-07-21T00:49:16.539Z', 'lastActionDateTime': '2018-07-21T00:51:24.925Z', 'enrollmentStatus': 'Enrolled'}]\n",
      "{'result': 'Reject', 'confidence': 'High', 'phrase': ''}\n"
     ]
    }
   ],
   "source": [
    "verify_headers = {\n",
    "    \"Ocp-Apim-Subscription-Key\":\"e6f322a280b142e1a0468e518ff60d03\",\n",
    "    \"Content-Type\":\"multipart/form-data\",\n",
    "    \"Accept\":\"application/json\"\n",
    "}\n",
    "\n",
    "profile_id = get_profile_id()\n",
    "audio_file_name = \"verify.wav\"\n",
    "create_audio_file(audio_file_name)\n",
    "with open(audio_file_name, \"rb\") as body:\n",
    "    endpoint = \"/spid/v1.0/verify?verificationProfileId={0}\".format(profile_id)\n",
    "    conn = http.client.HTTPSConnection(\"westus.api.cognitive.microsoft.com\")\n",
    "    conn.request(\"POST\", endpoint, body, verify_headers)\n",
    "    response = conn.getresponse()\n",
    "    jsonData = response.read()\n",
    "    data = json.loads(jsonData)\n",
    "    print(data)\n",
    "    conn.close()"
   ]
  },
  {
   "cell_type": "code",
   "execution_count": null,
   "metadata": {},
   "outputs": [],
   "source": []
  }
 ],
 "metadata": {
  "kernelspec": {
   "display_name": "Python 3",
   "language": "python",
   "name": "python3"
  },
  "language_info": {
   "codemirror_mode": {
    "name": "ipython",
    "version": 3
   },
   "file_extension": ".py",
   "mimetype": "text/x-python",
   "name": "python",
   "nbconvert_exporter": "python",
   "pygments_lexer": "ipython3",
   "version": "3.5.4"
  }
 },
 "nbformat": 4,
 "nbformat_minor": 2
}
