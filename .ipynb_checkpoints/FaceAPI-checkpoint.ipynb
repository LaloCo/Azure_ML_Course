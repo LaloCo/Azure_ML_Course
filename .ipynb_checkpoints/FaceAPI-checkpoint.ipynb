{
 "cells": [
  {
   "cell_type": "code",
   "execution_count": 26,
   "metadata": {},
   "outputs": [],
   "source": [
    "subscription_key = '9a3169f5102c4616a966b0eb37073441'"
   ]
  },
  {
   "cell_type": "code",
   "execution_count": 45,
   "metadata": {},
   "outputs": [
    {
     "name": "stdout",
     "output_type": "stream",
     "text": [
      "7937a3a2-acfd-4049-b6cf-bdcd317d4561\n",
      "[\n",
      "  {\n",
      "    \"faceAttributes\": {\n",
      "      \"accessories\": [],\n",
      "      \"age\": 56.0,\n",
      "      \"emotion\": {\n",
      "        \"anger\": 0.08,\n",
      "        \"contempt\": 0.005,\n",
      "        \"disgust\": 0.009,\n",
      "        \"fear\": 0.017,\n",
      "        \"happiness\": 0.001,\n",
      "        \"neutral\": 0.824,\n",
      "        \"sadness\": 0.039,\n",
      "        \"surprise\": 0.025\n",
      "      },\n",
      "      \"gender\": \"female\",\n",
      "      \"glasses\": \"NoGlasses\",\n",
      "      \"makeup\": {\n",
      "        \"eyeMakeup\": true,\n",
      "        \"lipMakeup\": false\n",
      "      },\n",
      "      \"smile\": 0.001\n",
      "    },\n",
      "    \"faceId\": \"7937a3a2-acfd-4049-b6cf-bdcd317d4561\",\n",
      "    \"faceLandmarks\": {\n",
      "      \"eyeLeftBottom\": {\n",
      "        \"x\": 629.7,\n",
      "        \"y\": 623.9\n",
      "      },\n",
      "      \"eyeLeftInner\": {\n",
      "        \"x\": 671.8,\n",
      "        \"y\": 617.0\n",
      "      },\n",
      "      \"eyeLeftOuter\": {\n",
      "        \"x\": 591.3,\n",
      "        \"y\": 607.1\n",
      "      },\n",
      "      \"eyeLeftTop\": {\n",
      "        \"x\": 632.8,\n",
      "        \"y\": 588.8\n",
      "      },\n",
      "      \"eyeRightBottom\": {\n",
      "        \"x\": 893.0,\n",
      "        \"y\": 644.9\n",
      "      },\n",
      "      \"eyeRightInner\": {\n",
      "        \"x\": 842.2,\n",
      "        \"y\": 623.7\n",
      "      },\n",
      "      \"eyeRightOuter\": {\n",
      "        \"x\": 939.6,\n",
      "        \"y\": 627.4\n",
      "      },\n",
      "      \"eyeRightTop\": {\n",
      "        \"x\": 894.1,\n",
      "        \"y\": 602.5\n",
      "      },\n",
      "      \"eyebrowLeftInner\": {\n",
      "        \"x\": 689.5,\n",
      "        \"y\": 546.8\n",
      "      },\n",
      "      \"eyebrowLeftOuter\": {\n",
      "        \"x\": 549.1,\n",
      "        \"y\": 510.8\n",
      "      },\n",
      "      \"eyebrowRightInner\": {\n",
      "        \"x\": 797.5,\n",
      "        \"y\": 573.2\n",
      "      },\n",
      "      \"eyebrowRightOuter\": {\n",
      "        \"x\": 997.3,\n",
      "        \"y\": 579.3\n",
      "      },\n",
      "      \"mouthLeft\": {\n",
      "        \"x\": 639.0,\n",
      "        \"y\": 948.7\n",
      "      },\n",
      "      \"mouthRight\": {\n",
      "        \"x\": 835.9,\n",
      "        \"y\": 953.6\n",
      "      },\n",
      "      \"noseLeftAlarOutTip\": {\n",
      "        \"x\": 645.1,\n",
      "        \"y\": 796.8\n",
      "      },\n",
      "      \"noseLeftAlarTop\": {\n",
      "        \"x\": 674.8,\n",
      "        \"y\": 733.0\n",
      "      },\n",
      "      \"noseRightAlarOutTip\": {\n",
      "        \"x\": 798.6,\n",
      "        \"y\": 800.2\n",
      "      },\n",
      "      \"noseRightAlarTop\": {\n",
      "        \"x\": 777.0,\n",
      "        \"y\": 741.4\n",
      "      },\n",
      "      \"noseRootLeft\": {\n",
      "        \"x\": 714.5,\n",
      "        \"y\": 628.1\n",
      "      },\n",
      "      \"noseRootRight\": {\n",
      "        \"x\": 776.8,\n",
      "        \"y\": 630.6\n",
      "      },\n",
      "      \"noseTip\": {\n",
      "        \"x\": 710.1,\n",
      "        \"y\": 774.9\n",
      "      },\n",
      "      \"pupilLeft\": {\n",
      "        \"x\": 632.1,\n",
      "        \"y\": 604.1\n",
      "      },\n",
      "      \"pupilRight\": {\n",
      "        \"x\": 890.2,\n",
      "        \"y\": 617.1\n",
      "      },\n",
      "      \"underLipBottom\": {\n",
      "        \"x\": 709.4,\n",
      "        \"y\": 990.1\n",
      "      },\n",
      "      \"underLipTop\": {\n",
      "        \"x\": 711.5,\n",
      "        \"y\": 959.2\n",
      "      },\n",
      "      \"upperLipBottom\": {\n",
      "        \"x\": 707.9,\n",
      "        \"y\": 948.1\n",
      "      },\n",
      "      \"upperLipTop\": {\n",
      "        \"x\": 707.5,\n",
      "        \"y\": 925.6\n",
      "      }\n",
      "    },\n",
      "    \"faceRectangle\": {\n",
      "      \"height\": 652,\n",
      "      \"left\": 415,\n",
      "      \"top\": 447,\n",
      "      \"width\": 652\n",
      "    }\n",
      "  }\n",
      "]\n"
     ]
    }
   ],
   "source": [
    "import urllib.parse, http.client, json\n",
    "\n",
    "headers = {\n",
    "    'Ocp-Apim-Subscription-Key':subscription_key,\n",
    "    'Content-Type':'application/json'\n",
    "}\n",
    "\n",
    "body = {\n",
    "    'url':'https://static.independent.co.uk/s3fs-public/thumbnails/image/2018/04/24/15/angela-merkel.jpg'\n",
    "}\n",
    "\n",
    "params = urllib.parse.urlencode({\n",
    "    'returnFaceId':True,\n",
    "    'returnFaceLandmarks':True,\n",
    "    'returnFaceAttributes':'age,gender,makeup,smile,glasses,accessories,emotion'\n",
    "})\n",
    "\n",
    "url = 'southcentralus.api.cognitive.microsoft.com'\n",
    "\n",
    "endpoint = '/face/v1.0/detect?%s'\n",
    "\n",
    "try:\n",
    "    conn = http.client.HTTPSConnection(url)\n",
    "    conn.request('POST', endpoint % params, str(body), headers)\n",
    "    response = conn.getresponse()\n",
    "    jsonData = response.read()\n",
    "    data = json.loads(jsonData)\n",
    "    detect_face_id = data[0]['faceId']\n",
    "    print(detect_face_id)\n",
    "    print(json.dumps(data, sort_keys=True, indent=2))\n",
    "    conn.close()\n",
    "except Exception as ex:\n",
    "    print(ex)"
   ]
  },
  {
   "cell_type": "code",
   "execution_count": 28,
   "metadata": {},
   "outputs": [
    {
     "name": "stdout",
     "output_type": "stream",
     "text": [
      "b'{\"error\":{\"code\":\"PersonGroupExists\",\"message\":\"Person group \\'random_people\\' already exists.\"}}'\n"
     ]
    }
   ],
   "source": [
    "group_id = 'random_people'\n",
    "\n",
    "group_body = {\n",
    "    'name':'Random People'\n",
    "}\n",
    "\n",
    "try:\n",
    "    conn = http.client.HTTPSConnection('southcentralus.api.cognitive.microsoft.com')\n",
    "    conn.request('PUT', '/face/v1.0/persongroups/%s' % group_id, str(group_body), headers)\n",
    "    response = conn.getresponse()\n",
    "    data = response.read()\n",
    "    print(data)\n",
    "    conn.close()\n",
    "except Exception as ex:\n",
    "    print(ex)"
   ]
  },
  {
   "cell_type": "code",
   "execution_count": 33,
   "metadata": {},
   "outputs": [
    {
     "name": "stdout",
     "output_type": "stream",
     "text": [
      "{'personId': '30969c57-3c95-49bc-a259-edb87a0fe777'}\n"
     ]
    }
   ],
   "source": [
    "person_body = {\n",
    "    'name':'Elizabeth'\n",
    "}\n",
    "\n",
    "person_endpoint = '/face/v1.0/persongroups/{0}/persons'.format(group_id)\n",
    "\n",
    "try:\n",
    "    conn = http.client.HTTPSConnection('southcentralus.api.cognitive.microsoft.com')\n",
    "    conn.request('POST', person_endpoint, str(person_body), headers)\n",
    "    response = conn.getresponse()\n",
    "    jsonData = response.read()\n",
    "    data = json.loads(jsonData)\n",
    "    print(data)\n",
    "    conn.close()\n",
    "except Exception as ex:\n",
    "    print(ex)"
   ]
  },
  {
   "cell_type": "code",
   "execution_count": 42,
   "metadata": {},
   "outputs": [
    {
     "name": "stdout",
     "output_type": "stream",
     "text": [
      "[{'personId': '775386ff-f289-4437-8154-19633a84006c', 'persistedFaceIds': ['831ef8a7-d9c3-40d5-a053-dbabd343eb0f', '967c19e4-d132-41b4-88dd-fd8f32bd7671', 'fff4242b-17ea-4bee-bf75-5e27ee54de43'], 'name': 'Bill', 'userData': None}, {'personId': 'b07f3b93-f078-4693-a00f-83b17cdf5f53', 'persistedFaceIds': ['8975dc7c-e732-4d68-897e-dcb9d200bdd2', 'bad76363-fd56-4915-8fd7-ea5348130604', 'e99ea0f1-96ac-4563-946a-4f427649e91d'], 'name': 'Angela', 'userData': None}, {'personId': 'f9e5cf62-de93-417a-90bb-3ced82e276a0', 'persistedFaceIds': ['6e28411e-4642-462d-a05a-f23135e8d36d', 'a33d477f-da3d-4366-98d0-4685e11d4921', 'b630a085-14cd-440f-9fa5-0db525f677b3'], 'name': 'Elizabeth', 'userData': None}]\n"
     ]
    }
   ],
   "source": [
    "try:\n",
    "    conn = http.client.HTTPSConnection('southcentralus.api.cognitive.microsoft.com')\n",
    "    conn.request('GET', person_endpoint, \"\", headers)\n",
    "    response = conn.getresponse()\n",
    "    jsonData = response.read()\n",
    "    person_data = json.loads(jsonData)\n",
    "    print(person_data)\n",
    "    conn.close()\n",
    "except Exception as ex:\n",
    "    print(ex)"
   ]
  },
  {
   "cell_type": "code",
   "execution_count": 35,
   "metadata": {},
   "outputs": [
    {
     "name": "stdout",
     "output_type": "stream",
     "text": [
      "b''\n"
     ]
    }
   ],
   "source": [
    "try:\n",
    "    conn = http.client.HTTPSConnection('southcentralus.api.cognitive.microsoft.com')\n",
    "    conn.request('DELETE', person_endpoint+\"/30969c57-3c95-49bc-a259-edb87a0fe777\", \"\", headers)\n",
    "    response = conn.getresponse()\n",
    "    jsonData = response.read()\n",
    "    print(jsonData)\n",
    "    conn.close()\n",
    "except Exception as ex:\n",
    "    print(ex)"
   ]
  },
  {
   "cell_type": "code",
   "execution_count": 22,
   "metadata": {},
   "outputs": [
    {
     "name": "stdout",
     "output_type": "stream",
     "text": [
      "{'persistedFaceId': '967c19e4-d132-41b4-88dd-fd8f32bd7671'}\n",
      "{'persistedFaceId': '831ef8a7-d9c3-40d5-a053-dbabd343eb0f'}\n",
      "{'persistedFaceId': 'fff4242b-17ea-4bee-bf75-5e27ee54de43'}\n",
      "{'persistedFaceId': 'bad76363-fd56-4915-8fd7-ea5348130604'}\n",
      "{'persistedFaceId': 'e99ea0f1-96ac-4563-946a-4f427649e91d'}\n",
      "{'persistedFaceId': '8975dc7c-e732-4d68-897e-dcb9d200bdd2'}\n",
      "{'persistedFaceId': '6e28411e-4642-462d-a05a-f23135e8d36d'}\n",
      "{'persistedFaceId': 'b630a085-14cd-440f-9fa5-0db525f677b3'}\n",
      "{'persistedFaceId': 'a33d477f-da3d-4366-98d0-4685e11d4921'}\n"
     ]
    }
   ],
   "source": [
    "import os\n",
    "\n",
    "person_group_id = 'random_people'\n",
    "\n",
    "face_headers = {\n",
    "    'Ocp-Apim-Subscription-Key':subscription_key,\n",
    "    'Content-Type':'application/octet-stream'\n",
    "}\n",
    "\n",
    "for person in person_data:\n",
    "    face_endpoint = '/face/v1.0/persongroups/{0}/persons/{1}/persistedFaces'.format(person_group_id, person['personId'])\n",
    "    for file in os.listdir('People/'+person['name']):\n",
    "        with open('People/{0}/{1}'.format(person['name'],file), 'rb') as face_body:\n",
    "            conn = http.client.HTTPSConnection('southcentralus.api.cognitive.microsoft.com')\n",
    "            conn.request('POST', face_endpoint, face_body, face_headers)\n",
    "            response = conn.getresponse()\n",
    "            jsonData = response.read()\n",
    "            data = json.loads(jsonData)\n",
    "            print(data)\n",
    "            conn.close()"
   ]
  },
  {
   "cell_type": "code",
   "execution_count": 37,
   "metadata": {},
   "outputs": [
    {
     "name": "stdout",
     "output_type": "stream",
     "text": [
      "b''\n"
     ]
    }
   ],
   "source": [
    "train_headers = {\n",
    "    'Ocp-Apim-Subscription-Key':subscription_key\n",
    "}\n",
    "train_endpoint = '/face/v1.0/persongroups/{0}/train'.format(person_group_id)\n",
    "\n",
    "try:\n",
    "    conn = http.client.HTTPSConnection('southcentralus.api.cognitive.microsoft.com')\n",
    "    conn.request('POST', train_endpoint, '', train_headers)\n",
    "    response = conn.getresponse()\n",
    "    data = response.read()\n",
    "    print(data)\n",
    "    conn.close()\n",
    "except Exception as ex:\n",
    "    print(ex)"
   ]
  },
  {
   "cell_type": "code",
   "execution_count": 46,
   "metadata": {},
   "outputs": [
    {
     "name": "stdout",
     "output_type": "stream",
     "text": [
      "[{'faceId': '7937a3a2-acfd-4049-b6cf-bdcd317d4561', 'candidates': [{'personId': 'b07f3b93-f078-4693-a00f-83b17cdf5f53', 'confidence': 0.71093}]}]\n"
     ]
    }
   ],
   "source": [
    "identify_endpoint = '/face/v1.0/identify'\n",
    "\n",
    "identify_headers = {\n",
    "    'Ocp-Apim-Subscription-Key':subscription_key\n",
    "}\n",
    "\n",
    "identify_body = {\n",
    "    'faceIds':[detect_face_id],\n",
    "    'personGroupId':person_group_id\n",
    "}\n",
    "\n",
    "try:\n",
    "    conn = http.client.HTTPSConnection('southcentralus.api.cognitive.microsoft.com')\n",
    "    conn.request('POST', identify_endpoint, str(identify_body), identify_headers)\n",
    "    response = conn.getresponse()\n",
    "    jsonData = response.read()\n",
    "    data = json.loads(jsonData)\n",
    "    print(data)\n",
    "    conn.close()\n",
    "except Exception as ex:\n",
    "    print(ex)"
   ]
  },
  {
   "cell_type": "code",
   "execution_count": 47,
   "metadata": {},
   "outputs": [
    {
     "name": "stdout",
     "output_type": "stream",
     "text": [
      "[{'personId': '775386ff-f289-4437-8154-19633a84006c', 'persistedFaceIds': ['831ef8a7-d9c3-40d5-a053-dbabd343eb0f', '967c19e4-d132-41b4-88dd-fd8f32bd7671', 'fff4242b-17ea-4bee-bf75-5e27ee54de43'], 'name': 'Bill', 'userData': None}, {'personId': 'b07f3b93-f078-4693-a00f-83b17cdf5f53', 'persistedFaceIds': ['8975dc7c-e732-4d68-897e-dcb9d200bdd2', 'bad76363-fd56-4915-8fd7-ea5348130604', 'e99ea0f1-96ac-4563-946a-4f427649e91d'], 'name': 'Angela', 'userData': None}, {'personId': 'f9e5cf62-de93-417a-90bb-3ced82e276a0', 'persistedFaceIds': ['6e28411e-4642-462d-a05a-f23135e8d36d', 'a33d477f-da3d-4366-98d0-4685e11d4921', 'b630a085-14cd-440f-9fa5-0db525f677b3'], 'name': 'Elizabeth', 'userData': None}]\n"
     ]
    }
   ],
   "source": [
    "print(person_data)"
   ]
  },
  {
   "cell_type": "code",
   "execution_count": 48,
   "metadata": {},
   "outputs": [
    {
     "name": "stdout",
     "output_type": "stream",
     "text": [
      "FOUND IT!\n",
      "This is Angela\n"
     ]
    }
   ],
   "source": [
    "identified_person = data[0]\n",
    "found = False\n",
    "for candidate in identified_person['candidates']:\n",
    "    for person in person_data:\n",
    "        if(person['personId'] == candidate['personId']):\n",
    "            print('FOUND IT!')\n",
    "            print('This is ' + person['name'])\n",
    "            found = True\n",
    "            \n",
    "if(found == False):\n",
    "    print('This person could not be identified')"
   ]
  },
  {
   "cell_type": "code",
   "execution_count": null,
   "metadata": {},
   "outputs": [],
   "source": []
  }
 ],
 "metadata": {
  "kernelspec": {
   "display_name": "Python 3.6",
   "language": "python",
   "name": "python36"
  },
  "language_info": {
   "codemirror_mode": {
    "name": "ipython",
    "version": 3
   },
   "file_extension": ".py",
   "mimetype": "text/x-python",
   "name": "python",
   "nbconvert_exporter": "python",
   "pygments_lexer": "ipython3",
   "version": "3.6.3"
  }
 },
 "nbformat": 4,
 "nbformat_minor": 2
}
