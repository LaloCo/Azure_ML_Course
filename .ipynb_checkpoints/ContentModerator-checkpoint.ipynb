{
 "cells": [
  {
   "cell_type": "code",
   "execution_count": 1,
   "metadata": {},
   "outputs": [],
   "source": [
    "subscription_key = '1b7ff64794514299a856cf1e383507f4'"
   ]
  },
  {
   "cell_type": "code",
   "execution_count": 2,
   "metadata": {},
   "outputs": [],
   "source": [
    "import urllib.parse\n",
    "\n",
    "text_headers = {\n",
    "    'Ocp-Apim-Subscription-Key':subscription_key,\n",
    "    'Content-Type':'text/plain'\n",
    "}\n",
    "\n",
    "text_body = \"Crap! No, it's not available any more, but you can contact me on username@domain.com or 7711552346 so we arrange an external (cheaper) payment\"\n",
    "\n",
    "text_params = urllib.parse.urlencode({\n",
    "    'PII':True,\n",
    "    'classify':True\n",
    "})"
   ]
  },
  {
   "cell_type": "code",
   "execution_count": 3,
   "metadata": {},
   "outputs": [
    {
     "name": "stdout",
     "output_type": "stream",
     "text": [
      "{\n",
      "  \"OriginalText\": \"Crap! No, it's not available any more, but you can contact me on username@domain.com or 7711552346 so we arrange an external (cheaper) payment\",\n",
      "  \"NormalizedText\": \"Crap! No, it' s not available any more, but you can contact me on username@ domain. com or 7711552346 so we arrange an external ( cheaper) payment\",\n",
      "  \"Misrepresentation\": null,\n",
      "  \"PII\": {\n",
      "    \"Email\": [\n",
      "      {\n",
      "        \"Detected\": \"username@domain.com\",\n",
      "        \"SubType\": \"Regular\",\n",
      "        \"Text\": \"username@domain.com\",\n",
      "        \"Index\": 65\n",
      "      }\n",
      "    ],\n",
      "    \"IPA\": [],\n",
      "    \"Phone\": [],\n",
      "    \"Address\": [],\n",
      "    \"SSN\": [\n",
      "      {\n",
      "        \"Text\": \"771155234\",\n",
      "        \"Index\": 88\n",
      "      }\n",
      "    ]\n",
      "  },\n",
      "  \"Classification\": {\n",
      "    \"ReviewRecommended\": true,\n",
      "    \"Category1\": {\n",
      "      \"Score\": 0.001150581636466086\n",
      "    },\n",
      "    \"Category2\": {\n",
      "      \"Score\": 0.27872809767723083\n",
      "    },\n",
      "    \"Category3\": {\n",
      "      \"Score\": 0.9879999756813049\n",
      "    }\n",
      "  },\n",
      "  \"Language\": \"eng\",\n",
      "  \"Terms\": [\n",
      "    {\n",
      "      \"Index\": 0,\n",
      "      \"OriginalIndex\": 0,\n",
      "      \"ListId\": 0,\n",
      "      \"Term\": \"crap\"\n",
      "    }\n",
      "  ],\n",
      "  \"Status\": {\n",
      "    \"Code\": 3000,\n",
      "    \"Description\": \"OK\",\n",
      "    \"Exception\": null\n",
      "  },\n",
      "  \"TrackingId\": \"b0e3941e-7b78-464e-b99a-6328e1d8de4c\"\n",
      "}\n"
     ]
    }
   ],
   "source": [
    "import http.client, json\n",
    "\n",
    "try:\n",
    "    conn = http.client.HTTPSConnection('southcentralus.api.cognitive.microsoft.com')\n",
    "    conn.request('POST', '/contentmoderator/moderate/v1.0/ProcessText/Screen?%s' % text_params, text_body, text_headers)\n",
    "    response = conn.getresponse()\n",
    "    jsonData = response.read()\n",
    "    text_data = json.loads(jsonData)\n",
    "    print(json.dumps(text_data, indent=2))\n",
    "    conn.close()\n",
    "except Exception as ex:\n",
    "    print(ex)"
   ]
  },
  {
   "cell_type": "code",
   "execution_count": 4,
   "metadata": {},
   "outputs": [
    {
     "name": "stdout",
     "output_type": "stream",
     "text": [
      "****! No, it's not available any more, but you can contact me on username@domain.com or 7711552346 so we arrange an external (cheaper) payment\n"
     ]
    }
   ],
   "source": [
    "moderatedText = text_data['OriginalText']\n",
    "\n",
    "for term in text_data['Terms']:\n",
    "    old_text = moderatedText[term['Index']:term['Index']+len(term['Term'])]\n",
    "    new_text = '*' * len(old_text)\n",
    "    moderatedText = moderatedText.replace(old_text, new_text)\n",
    "    \n",
    "print(moderatedText)"
   ]
  },
  {
   "cell_type": "code",
   "execution_count": 5,
   "metadata": {},
   "outputs": [
    {
     "name": "stdout",
     "output_type": "stream",
     "text": [
      "{\n",
      "  \"AdultClassificationScore\": 0.0029471837915480137,\n",
      "  \"IsImageAdultClassified\": false,\n",
      "  \"RacyClassificationScore\": 0.4608921408653259,\n",
      "  \"IsImageRacyClassified\": true,\n",
      "  \"AdvancedInfo\": [\n",
      "    {\n",
      "      \"Key\": \"ImageDownloadTimeInMs\",\n",
      "      \"Value\": \"465\"\n",
      "    },\n",
      "    {\n",
      "      \"Key\": \"ImageSizeInBytes\",\n",
      "      \"Value\": \"167702\"\n",
      "    }\n",
      "  ],\n",
      "  \"Result\": true,\n",
      "  \"Status\": {\n",
      "    \"Code\": 3000,\n",
      "    \"Description\": \"OK\",\n",
      "    \"Exception\": null\n",
      "  },\n",
      "  \"TrackingId\": \"USSC_ibiza_102a3258-ab13-4f24-8204-77071ce66b97_ContentModerator.F0_5f492138-81fc-4283-b81f-053aa4bad5dd\",\n",
      "  \"CacheID\": \"e206ba87-94dc-4024-94b0-db9ddc1b2b59_636691492980003619\"\n",
      "}\n"
     ]
    }
   ],
   "source": [
    "image_evaluate_endpoint = \"/contentmoderator/moderate/v1.0/ProcessImage/Evaluate?%s\"\n",
    "image_findface_endpoint = \"/contentmoderator/moderate/v1.0/ProcessImage/FindFaces?%s\"\n",
    "service_url = \"southcentralus.api.cognitive.microsoft.com\"\n",
    "image_evaluate_headers = {\n",
    "    'Ocp-Apim-Subscription-Key':subscription_key,\n",
    "    'Content-Type':'application/json'\n",
    "}\n",
    "image_evaluate_body = {\n",
    "    'DataRepresentation':'URL',\n",
    "    'Value':'https://oralcancerfoundation.org/wp-content/uploads/2016/03/people.jpg'\n",
    "}\n",
    "image_evaluate_params = urllib.parse.urlencode({\n",
    "    'CacheImage':True\n",
    "})\n",
    "\n",
    "try:\n",
    "    conn = http.client.HTTPSConnection(service_url)\n",
    "    conn.request('POST', image_evaluate_endpoint % image_evaluate_params, str(image_evaluate_body), image_evaluate_headers)\n",
    "    response = conn.getresponse()\n",
    "    jsonData = response.read()\n",
    "    data = json.loads(jsonData)\n",
    "    print(json.dumps(data, indent=2))\n",
    "    conn.close()\n",
    "except Exception as ex:\n",
    "    print(ex)"
   ]
  },
  {
   "cell_type": "code",
   "execution_count": 6,
   "metadata": {},
   "outputs": [
    {
     "name": "stdout",
     "output_type": "stream",
     "text": [
      "{\n",
      "  \"statusCode\": 429,\n",
      "  \"message\": \"Rate limit is exceeded. Try again in 1 seconds.\"\n",
      "}\n"
     ]
    }
   ],
   "source": [
    "try:\n",
    "    conn = http.client.HTTPSConnection(service_url)\n",
    "    conn.request('POST', image_findface_endpoint % image_evaluate_params, str(image_evaluate_body), image_evaluate_headers)\n",
    "    response = conn.getresponse()\n",
    "    jsonData = response.read()\n",
    "    data = json.loads(jsonData)\n",
    "    print(json.dumps(data, indent=2))\n",
    "    conn.close()\n",
    "except Exception as ex:\n",
    "    print(ex)"
   ]
  },
  {
   "cell_type": "code",
   "execution_count": 27,
   "metadata": {},
   "outputs": [
    {
     "name": "stdout",
     "output_type": "stream",
     "text": [
      "{\n",
      "  \"JobId\": \"20180866d687b6145c4fba9087931f8eac4d9a\"\n",
      "}\n"
     ]
    }
   ],
   "source": [
    "job_params = urllib.parse.urlencode({\n",
    "    'WorkflowName':'isracyoradult',\n",
    "    'ContentType':'Image',\n",
    "    'ContentId':'image1'\n",
    "})\n",
    "job_endpoint = '/contentmoderator/review/v1.0/teams/LPA/jobs?%s' % job_params\n",
    "job_headers = {\n",
    "    'Ocp-Apim-Subscription-Key':subscription_key,\n",
    "    'Content-Type':'application/json',\n",
    "    'Accept':'application/json'\n",
    "}\n",
    "job_body = {\n",
    "    'ContentValue':'https://oralcancerfoundation.org/wp-content/uploads/2016/03/people.jpg'\n",
    "}\n",
    "\n",
    "try:\n",
    "    conn = http.client.HTTPSConnection(service_url)\n",
    "    conn.request('POST', job_endpoint, str(job_body), job_headers)\n",
    "    response = conn.getresponse()\n",
    "    jsonData = response.read()\n",
    "    job_data = json.loads(jsonData)\n",
    "    print(json.dumps(job_data, indent=2))\n",
    "    conn.close()\n",
    "except Exception as ex:\n",
    "    print(ex)"
   ]
  },
  {
   "cell_type": "code",
   "execution_count": 28,
   "metadata": {},
   "outputs": [
    {
     "name": "stdout",
     "output_type": "stream",
     "text": [
      "{\n",
      "  \"Id\": \"20180866d687b6145c4fba9087931f8eac4d9a\",\n",
      "  \"TeamName\": \"lpa\",\n",
      "  \"Status\": \"Complete\",\n",
      "  \"WorkflowId\": \"isracyoradult\",\n",
      "  \"Type\": \"Image\",\n",
      "  \"CallBackEndpoint\": \"\",\n",
      "  \"ReviewId\": \"201808ied0103b9bb1e451593cb2fe1207cbb8a\",\n",
      "  \"ResultMetaData\": [\n",
      "    {\n",
      "      \"Key\": \"adultScore\",\n",
      "      \"Value\": \"0.003\"\n",
      "    },\n",
      "    {\n",
      "      \"Key\": \"isAdult\",\n",
      "      \"Value\": \"False\"\n",
      "    },\n",
      "    {\n",
      "      \"Key\": \"racyScore\",\n",
      "      \"Value\": \"0.461\"\n",
      "    },\n",
      "    {\n",
      "      \"Key\": \"isRacy\",\n",
      "      \"Value\": \"True\"\n",
      "    }\n",
      "  ],\n",
      "  \"JobExecutionReport\": [\n",
      "    {\n",
      "      \"Ts\": \"2018-08-06T11:30:18.6709148\",\n",
      "      \"Msg\": \"Job marked completed and job content has been removed\"\n",
      "    },\n",
      "    {\n",
      "      \"Ts\": \"2018-08-06T11:30:18.5487995\",\n",
      "      \"Msg\": \"Execution Complete\"\n",
      "    },\n",
      "    {\n",
      "      \"Ts\": \"2018-08-06T11:30:18.2074761\",\n",
      "      \"Msg\": \"Successfully got isRacy response from Moderator\"\n",
      "    },\n",
      "    {\n",
      "      \"Ts\": \"2018-08-06T11:30:17.7430348\",\n",
      "      \"Msg\": \"Getting isRacy from Moderator\"\n",
      "    },\n",
      "    {\n",
      "      \"Ts\": \"2018-08-06T11:30:17.5108151\",\n",
      "      \"Msg\": \"Starting Execution - Try 1\"\n",
      "    }\n",
      "  ]\n",
      "}\n"
     ]
    }
   ],
   "source": [
    "#201808ec1e1ec6e8234b3e9784e66f4130d8ff\n",
    "get_job_endpoint = '/contentmoderator/review/v1.0/teams/LPA/jobs/' + job_data['JobId']\n",
    "get_job_headers = {\n",
    "    'Ocp-Apim-Subscription-Key':subscription_key\n",
    "}\n",
    "\n",
    "try:\n",
    "    conn = http.client.HTTPSConnection(service_url)\n",
    "    conn.request('GET', get_job_endpoint, '', get_job_headers)\n",
    "    response = conn.getresponse()\n",
    "    jsonData = response.read()\n",
    "    get_job_data = json.loads(jsonData)\n",
    "    print(json.dumps(get_job_data, indent=2))\n",
    "    conn.close()\n",
    "except Exception as ex:\n",
    "    print(ex)"
   ]
  },
  {
   "cell_type": "code",
   "execution_count": 30,
   "metadata": {},
   "outputs": [
    {
     "name": "stdout",
     "output_type": "stream",
     "text": [
      "{\n",
      "  \"ReviewId\": \"201808ied0103b9bb1e451593cb2fe1207cbb8a\",\n",
      "  \"SubTeam\": \"public\",\n",
      "  \"CreatedBy\": \"lpa\",\n",
      "  \"Metadata\": [\n",
      "    {\n",
      "      \"Key\": \"adultScore\",\n",
      "      \"Value\": \"0.003\"\n",
      "    },\n",
      "    {\n",
      "      \"Key\": \"isAdult\",\n",
      "      \"Value\": \"False\"\n",
      "    },\n",
      "    {\n",
      "      \"Key\": \"racyScore\",\n",
      "      \"Value\": \"0.461\"\n",
      "    },\n",
      "    {\n",
      "      \"Key\": \"isRacy\",\n",
      "      \"Value\": \"True\"\n",
      "    },\n",
      "    {\n",
      "      \"Key\": \"ImageName\",\n",
      "      \"Value\": \"image1\"\n",
      "    }\n",
      "  ],\n",
      "  \"ReviewerResultTags\": [\n",
      "    {\n",
      "      \"Key\": \"a\",\n",
      "      \"Value\": \"False\"\n",
      "    },\n",
      "    {\n",
      "      \"Key\": \"r\",\n",
      "      \"Value\": \"False\"\n",
      "    }\n",
      "  ],\n",
      "  \"Type\": \"Image\",\n",
      "  \"Content\": \"\",\n",
      "  \"ContentId\": \"image1\",\n",
      "  \"CallbackEndpoint\": \"\",\n",
      "  \"Status\": \"Complete\"\n",
      "}\n"
     ]
    }
   ],
   "source": [
    "get_review_endpoint = '/contentmoderator/review/v1.0/teams/LPA/reviews/' + get_job_data['ReviewId']\n",
    "get_review_headers = {\n",
    "    'Ocp-Apim-Subscription-Key':subscription_key\n",
    "}\n",
    "\n",
    "try:\n",
    "    conn = http.client.HTTPSConnection(service_url)\n",
    "    conn.request('GET', get_review_endpoint, '', get_review_headers)\n",
    "    response = conn.getresponse()\n",
    "    jsonData = response.read()\n",
    "    get_review_data = json.loads(jsonData)\n",
    "    print(json.dumps(get_review_data, indent=2))\n",
    "    conn.close()\n",
    "except Exception as ex:\n",
    "    print(ex)"
   ]
  }
 ],
 "metadata": {
  "kernelspec": {
   "display_name": "Python 3.6",
   "language": "python",
   "name": "python36"
  },
  "language_info": {
   "codemirror_mode": {
    "name": "ipython",
    "version": 3
   },
   "file_extension": ".py",
   "mimetype": "text/x-python",
   "name": "python",
   "nbconvert_exporter": "python",
   "pygments_lexer": "ipython3",
   "version": "3.6.3"
  }
 },
 "nbformat": 4,
 "nbformat_minor": 2
}
