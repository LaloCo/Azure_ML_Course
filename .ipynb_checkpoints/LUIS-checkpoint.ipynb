{
 "cells": [
  {
   "cell_type": "code",
   "execution_count": 7,
   "metadata": {},
   "outputs": [],
   "source": [
    "endpoint_url = 'https://southcentralus.api.cognitive.microsoft.com/luis/v2.0/apps/eaaf7880-dfcc-47ae-a0ea-b5b432a4186d?subscription-key=9d286ddef883453ea8ac54c7b41d2407&verbose=true&timezoneOffset=-360&q='"
   ]
  },
  {
   "cell_type": "code",
   "execution_count": 13,
   "metadata": {},
   "outputs": [
    {
     "name": "stdout",
     "output_type": "stream",
     "text": [
      "Please write the LUIS command: \n",
      "Good night\n",
      "I'm sorry, I didn't catch that.\n"
     ]
    }
   ],
   "source": [
    "import json, requests\n",
    "\n",
    "query = input('Please write the LUIS command: \\n')\n",
    "\n",
    "endpoint = endpoint_url + query.replace(\" \", \"+\")\n",
    "\n",
    "response = requests.get(endpoint)\n",
    "jsonData = response.content.decode('UTF-8')\n",
    "data = json.loads(jsonData)\n",
    "\n",
    "intent = data['topScoringIntent']['intent']\n",
    "\n",
    "if(intent == \"OpenShades\"):\n",
    "    print(\"Opening shades...\")\n",
    "elif(intent == \"CloseShades\"):\n",
    "    print(\"Closing shades...\")\n",
    "else:\n",
    "    print(\"I'm sorry, I didn't catch that.\")"
   ]
  },
  {
   "cell_type": "code",
   "execution_count": null,
   "metadata": {},
   "outputs": [],
   "source": []
  }
 ],
 "metadata": {
  "kernelspec": {
   "display_name": "Python 3.6",
   "language": "python",
   "name": "python36"
  },
  "language_info": {
   "codemirror_mode": {
    "name": "ipython",
    "version": 3
   },
   "file_extension": ".py",
   "mimetype": "text/x-python",
   "name": "python",
   "nbconvert_exporter": "python",
   "pygments_lexer": "ipython3",
   "version": "3.6.3"
  }
 },
 "nbformat": 4,
 "nbformat_minor": 2
}
