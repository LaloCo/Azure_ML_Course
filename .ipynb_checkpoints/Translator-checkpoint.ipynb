{
 "cells": [
  {
   "cell_type": "code",
   "execution_count": 4,
   "metadata": {},
   "outputs": [],
   "source": [
    "key = '295894eb8a2742f78d0c69a80b058c86'\n",
    "#service_url = 'api.cognitive.microsoft.com'\n",
    "service_url = 'api.cognitive.microsofttranslator.com'"
   ]
  },
  {
   "cell_type": "code",
   "execution_count": 28,
   "metadata": {},
   "outputs": [],
   "source": [
    "import urllib, urllib.parse, urllib.error, urllib.request, json, http.client\n",
    "\n",
    "headers = {\n",
    "    'Ocp-Apim-Subscription-Key':key,\n",
    "    'Content-Type':'application/json'\n",
    "}\n",
    "\n",
    "body = [\n",
    "{\n",
    "    'Text':'Hola mundo'\n",
    "},\n",
    "{\n",
    "    'Text':'Bonjour, mon amie'\n",
    "}]\n",
    "\n",
    "#params = urllib.parse.urlencode({\n",
    "#    'to':'en-US'\n",
    "#})\n",
    "\n",
    "params = urllib.parse.urlencode({\n",
    "    'api-version':'3.0',\n",
    "    'to':'de'\n",
    "})"
   ]
  },
  {
   "cell_type": "code",
   "execution_count": 45,
   "metadata": {},
   "outputs": [
    {
     "name": "stdout",
     "output_type": "stream",
     "text": [
      "[{'translations': [{'text': 'Hallo Welt', 'to': 'de'}, {'text': 'Salve, mondo', 'to': 'it'}]}, {'translations': [{'text': 'Bonjour, Mo Amie', 'to': 'de'}, {'text': 'Bonjour, Mon Amie', 'to': 'it'}]}]\n"
     ]
    }
   ],
   "source": [
    "try:\n",
    "    conn = http.client.HTTPSConnection(service_url)\n",
    "    #conn.request(\"POST\", \"/sts/v1.0?%s\" % params, str(body), headers)\n",
    "    conn.request(\"POST\", \"/translate?%s&to=it\" % params, str(body), headers)\n",
    "    response = conn.getresponse()\n",
    "    jsonData = response.read().decode('UTF-8')\n",
    "    data = json.loads(jsonData)\n",
    "    print(data)\n",
    "    conn.close()\n",
    "except Exception as ex:\n",
    "    print(ex)"
   ]
  },
  {
   "cell_type": "code",
   "execution_count": 26,
   "metadata": {},
   "outputs": [],
   "source": [
    "ta_key = ' bf3a71e47f3a4ae697c47f69508f03aa'\n",
    "ta_url = 'southcentralus.api.cognitive.microsoft.com'"
   ]
  },
  {
   "cell_type": "code",
   "execution_count": 42,
   "metadata": {},
   "outputs": [],
   "source": [
    "ta_headers = {\n",
    "    'Ocp-Apim-Subscription-Key':ta_key,\n",
    "    'Content-Type':'application/json'\n",
    "}\n",
    "\n",
    "ta_body = {\n",
    "    'documents':[\n",
    "        {\n",
    "            'id':'1',\n",
    "            'text':'Hola a todos'\n",
    "        }\n",
    "    ]\n",
    "}\n",
    "\n",
    "ta_params = urllib.parse.urlencode({\n",
    "})"
   ]
  },
  {
   "cell_type": "code",
   "execution_count": 43,
   "metadata": {},
   "outputs": [
    {
     "name": "stdout",
     "output_type": "stream",
     "text": [
      "Document 1\n",
      "    es\n"
     ]
    }
   ],
   "source": [
    "iso_name = 'en'\n",
    "try:\n",
    "    conn = http.client.HTTPSConnection(ta_url)\n",
    "    conn.request(\"POST\", \"/text/analytics/v2.0/languages?%s\" % ta_params, str(ta_body), ta_headers)\n",
    "    response = conn.getresponse()\n",
    "    jsonData = response.read()\n",
    "    data = json.loads(jsonData)\n",
    "    for document in data['documents']:\n",
    "        print('Document ' + document['id'])\n",
    "        for detectedLanguage in document['detectedLanguages']:\n",
    "            iso_name = detectedLanguage['iso6391Name']\n",
    "            print('    ' + detectedLanguage['iso6391Name'])\n",
    "    conn.close()\n",
    "except Exception as ex:\n",
    "    print(ex)"
   ]
  },
  {
   "cell_type": "code",
   "execution_count": 44,
   "metadata": {},
   "outputs": [],
   "source": [
    "params = urllib.parse.urlencode({\n",
    "    'api-version':'3.0',\n",
    "    'to':'de',\n",
    "    'from':iso_name\n",
    "})"
   ]
  }
 ],
 "metadata": {
  "kernelspec": {
   "display_name": "Python 3.6",
   "language": "python",
   "name": "python36"
  }
 },
 "nbformat": 4,
 "nbformat_minor": 2
}
