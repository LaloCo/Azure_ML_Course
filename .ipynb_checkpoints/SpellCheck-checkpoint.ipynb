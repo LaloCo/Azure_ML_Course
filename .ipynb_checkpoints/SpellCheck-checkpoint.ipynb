{
 "cells": [
  {
   "cell_type": "code",
   "execution_count": 12,
   "metadata": {},
   "outputs": [],
   "source": [
    "key = '3189a253068b404088769661d024338d'"
   ]
  },
  {
   "cell_type": "code",
   "execution_count": 31,
   "metadata": {},
   "outputs": [
    {
     "name": "stdout",
     "output_type": "stream",
     "text": [
      "/bing/v7.0/spellcheck?text=petal&mkt=en-US&setLang=EN&preContextText=bike\n"
     ]
    }
   ],
   "source": [
    "import http.client, json, urllib.request, urllib.parse, urllib.error, urllib\n",
    "\n",
    "headers = {\n",
    "    'Content-Type':'application/json',\n",
    "    'Ocp-Apim-Subscription-Key':key\n",
    "}\n",
    "\n",
    "body = {}\n",
    "\n",
    "text = 'petal'\n",
    "service_url = 'api.cognitive.microsoft.com'\n",
    "params = urllib.parse.urlencode({\n",
    "    'text':text,\n",
    "    'mkt':'en-US',\n",
    "    'setLang':'EN',\n",
    "    'preContextText':'bike'\n",
    "    'postContextText':''\n",
    "})\n",
    "endpoint = '/bing/v7.0/spellcheck?%s' % params\n",
    "\n",
    "print(endpoint)"
   ]
  },
  {
   "cell_type": "code",
   "execution_count": 32,
   "metadata": {},
   "outputs": [
    {
     "name": "stdout",
     "output_type": "stream",
     "text": [
      "Change petal for:\n",
      "    pedal - 0.910545957119312\n",
      "----------------------------\n"
     ]
    }
   ],
   "source": [
    "try:\n",
    "    conn = http.client.HTTPSConnection(service_url)\n",
    "    conn.request(\"POST\", endpoint, body, headers)\n",
    "    response = conn.getresponse()\n",
    "    jsonData = response.read().decode('UTF-8')\n",
    "    data = json.loads(jsonData)\n",
    "    for token in data['flaggedTokens']:\n",
    "        print('Change ' + token['token'] + ' for:')\n",
    "        for suggestion in token['suggestions']:\n",
    "            print('    ' + suggestion['suggestion'] + ' - ' + str(suggestion['score']))\n",
    "        print('----------------------------')\n",
    "    conn.close()\n",
    "except Exception as ex:\n",
    "    print(ex)"
   ]
  },
  {
   "cell_type": "code",
   "execution_count": null,
   "metadata": {},
   "outputs": [],
   "source": []
  }
 ],
 "metadata": {
  "kernelspec": {
   "display_name": "Python 3.6",
   "language": "python",
   "name": "python36"
  },
  "language_info": {
   "codemirror_mode": {
    "name": "ipython",
    "version": 3
   },
   "file_extension": ".py",
   "mimetype": "text/x-python",
   "name": "python",
   "nbconvert_exporter": "python",
   "pygments_lexer": "ipython3",
   "version": "3.6.3"
  }
 },
 "nbformat": 4,
 "nbformat_minor": 2
}
