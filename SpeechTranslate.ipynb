{
  "cells": [
    {
      "metadata": {
        "trusted": true
      },
      "cell_type": "code",
      "source": "#!pip install SpeechRecognition\n#!brew install portaudio\n!pip install pyaudio\n!pip install websocket-client",
      "execution_count": 5,
      "outputs": [
        {
          "output_type": "stream",
          "text": "/bin/sh: brew: command not found\nCollecting pyaudio\n  Using cached https://files.pythonhosted.org/packages/ab/42/b4f04721c5c5bfc196ce156b3c768998ef8c0ae3654ed29ea5020c749a6b/PyAudio-0.2.11.tar.gz\nBuilding wheels for collected packages: pyaudio\n  Building wheel for pyaudio (setup.py) ... \u001b[?25lerror\n  Complete output from command /home/nbuser/anaconda3_420/bin/python -u -c \"import setuptools, tokenize;__file__='/tmp/pip-install-0pjuoefn/pyaudio/setup.py';f=getattr(tokenize, 'open', open)(__file__);code=f.read().replace('\\r\\n', '\\n');f.close();exec(compile(code, __file__, 'exec'))\" bdist_wheel -d /tmp/pip-wheel-wlgp3vjk --python-tag cp35:\n  running bdist_wheel\n  running build\n  running build_py\n  creating build\n  creating build/lib.linux-x86_64-3.5\n  copying src/pyaudio.py -> build/lib.linux-x86_64-3.5\n  running build_ext\n  building '_portaudio' extension\n  creating build/temp.linux-x86_64-3.5\n  creating build/temp.linux-x86_64-3.5/src\n  gcc -pthread -B /home/nbuser/anaconda3_420/compiler_compat -Wl,--sysroot=/ -Wsign-compare -DNDEBUG -g -fwrapv -O3 -Wall -Wstrict-prototypes -fPIC -I/home/nbuser/anaconda3_420/include/python3.5m -c src/_portaudiomodule.c -o build/temp.linux-x86_64-3.5/src/_portaudiomodule.o\n  src/_portaudiomodule.c:29:23: fatal error: portaudio.h: No such file or directory\n  compilation terminated.\n  error: command 'gcc' failed with exit status 1\n  \n  ----------------------------------------\n\u001b[31m  Failed building wheel for pyaudio\u001b[0m\n\u001b[?25h  Running setup.py clean for pyaudio\nFailed to build pyaudio\nInstalling collected packages: pyaudio\n  Running setup.py install for pyaudio ... \u001b[?25lerror\n    Complete output from command /home/nbuser/anaconda3_420/bin/python -u -c \"import setuptools, tokenize;__file__='/tmp/pip-install-0pjuoefn/pyaudio/setup.py';f=getattr(tokenize, 'open', open)(__file__);code=f.read().replace('\\r\\n', '\\n');f.close();exec(compile(code, __file__, 'exec'))\" install --record /tmp/pip-record-wuj4_7ct/install-record.txt --single-version-externally-managed --compile:\n    running install\n    running build\n    running build_py\n    creating build\n    creating build/lib.linux-x86_64-3.5\n    copying src/pyaudio.py -> build/lib.linux-x86_64-3.5\n    running build_ext\n    building '_portaudio' extension\n    creating build/temp.linux-x86_64-3.5\n    creating build/temp.linux-x86_64-3.5/src\n    gcc -pthread -B /home/nbuser/anaconda3_420/compiler_compat -Wl,--sysroot=/ -Wsign-compare -DNDEBUG -g -fwrapv -O3 -Wall -Wstrict-prototypes -fPIC -I/home/nbuser/anaconda3_420/include/python3.5m -c src/_portaudiomodule.c -o build/temp.linux-x86_64-3.5/src/_portaudiomodule.o\n    src/_portaudiomodule.c:29:23: fatal error: portaudio.h: No such file or directory\n    compilation terminated.\n    error: command 'gcc' failed with exit status 1\n    \n    ----------------------------------------\n\u001b[31mCommand \"/home/nbuser/anaconda3_420/bin/python -u -c \"import setuptools, tokenize;__file__='/tmp/pip-install-0pjuoefn/pyaudio/setup.py';f=getattr(tokenize, 'open', open)(__file__);code=f.read().replace('\\r\\n', '\\n');f.close();exec(compile(code, __file__, 'exec'))\" install --record /tmp/pip-record-wuj4_7ct/install-record.txt --single-version-externally-managed --compile\" failed with error code 1 in /tmp/pip-install-0pjuoefn/pyaudio/\u001b[0m\n\u001b[?25hRequirement already satisfied: websocket-client in /home/nbuser/anaconda3_420/lib/python3.5/site-packages (0.55.0)\nRequirement already satisfied: six in /home/nbuser/anaconda3_420/lib/python3.5/site-packages (from websocket-client) (1.11.0)\n",
          "name": "stdout"
        }
      ]
    },
    {
      "metadata": {
        "trusted": true
      },
      "cell_type": "code",
      "source": "from threading import Thread\nimport os, io, struct, uuid, wave, sys, pyaudio, requests, urllib.parse, websocket, _thread\n\ndef get_wave_header(frame_rate):\n    if frame_rate not in [8000, 16000]:\n        raise ValueError('Frame rate has to be 8000 or 16000')\n        \n    nchannels = 1\n    bytes_per_sample = 2\n    \n    header = io.BytesIO()\n    header.write(str.encode('RIFF'))\n    header.write(struct.pack('<L', 0))\n    header.write(str.encode('WAVE'))\n    header.write(str.encode('fmt'))\n    header.write(struct.pack('<L', 16))\n    header.write(struct.pack('<H', 1))\n    header.write(struct.pack('<H', nchannels))\n    header.write(struct.pack('<L', frame_rate))\n    header.write(struct.pack('<L', frame_rate * nchannels * bytes_per_sample))\n    header.write(struct.pack('<H', nchannels * bytes_per_sample))\n    header.write(struct.pack('<H', bytes_per_sample * 8))\n    header.write(str.encode('data'))\n    header.write(struct.pack('<L', 0))\n    \n    data = header.getvalue()\n    header.close()\n    return data\n",
      "execution_count": 7,
      "outputs": [
        {
          "output_type": "error",
          "ename": "ImportError",
          "evalue": "No module named 'pyaudio'",
          "traceback": [
            "\u001b[0;31m---------------------------------------------------------------------------\u001b[0m",
            "\u001b[0;31mImportError\u001b[0m                               Traceback (most recent call last)",
            "\u001b[0;32m<ipython-input-7-abba5b20f22c>\u001b[0m in \u001b[0;36m<module>\u001b[0;34m()\u001b[0m\n\u001b[1;32m      1\u001b[0m \u001b[0;32mfrom\u001b[0m \u001b[0mthreading\u001b[0m \u001b[0;32mimport\u001b[0m \u001b[0mThread\u001b[0m\u001b[0;34m\u001b[0m\u001b[0m\n\u001b[0;32m----> 2\u001b[0;31m \u001b[0;32mimport\u001b[0m \u001b[0mos\u001b[0m\u001b[0;34m,\u001b[0m \u001b[0mio\u001b[0m\u001b[0;34m,\u001b[0m \u001b[0mstruct\u001b[0m\u001b[0;34m,\u001b[0m \u001b[0muuid\u001b[0m\u001b[0;34m,\u001b[0m \u001b[0mwave\u001b[0m\u001b[0;34m,\u001b[0m \u001b[0msys\u001b[0m\u001b[0;34m,\u001b[0m \u001b[0mpyaudio\u001b[0m\u001b[0;34m,\u001b[0m \u001b[0mrequests\u001b[0m\u001b[0;34m,\u001b[0m \u001b[0murllib\u001b[0m\u001b[0;34m.\u001b[0m\u001b[0mparse\u001b[0m\u001b[0;34m,\u001b[0m \u001b[0mwebsocket\u001b[0m\u001b[0;34m,\u001b[0m \u001b[0m_thread\u001b[0m\u001b[0;34m\u001b[0m\u001b[0m\n\u001b[0m\u001b[1;32m      3\u001b[0m \u001b[0;34m\u001b[0m\u001b[0m\n\u001b[1;32m      4\u001b[0m \u001b[0;32mdef\u001b[0m \u001b[0mget_wave_header\u001b[0m\u001b[0;34m(\u001b[0m\u001b[0mframe_rate\u001b[0m\u001b[0;34m)\u001b[0m\u001b[0;34m:\u001b[0m\u001b[0;34m\u001b[0m\u001b[0m\n\u001b[1;32m      5\u001b[0m     \u001b[0;32mif\u001b[0m \u001b[0mframe_rate\u001b[0m \u001b[0;32mnot\u001b[0m \u001b[0;32min\u001b[0m \u001b[0;34m[\u001b[0m\u001b[0;36m8000\u001b[0m\u001b[0;34m,\u001b[0m \u001b[0;36m16000\u001b[0m\u001b[0;34m]\u001b[0m\u001b[0;34m:\u001b[0m\u001b[0;34m\u001b[0m\u001b[0m\n",
            "\u001b[0;31mImportError\u001b[0m: No module named 'pyaudio'"
          ]
        }
      ]
    },
    {
      "metadata": {
        "trusted": false
      },
      "cell_type": "code",
      "source": "CHUNK = 1024\nFORMAT = pyaudio.paInt16\nCHANNELS = 1\nRATE = 16000\nRECORD_SECONDS = 5\n\np = pyaudio.PyAudio()\n\nstream = p.open(format=FORMAT,\n                channels=CHANNELS,\n                rate=RATE,\n                input=True,\n                frames_per_buffer=CHUNK)\n\nparams = urllib.parse.urlencode(\n    {\n        'from':'en-US',\n        'to':'es-MX',\n        'features':'Partial,TextToSpeech,TimingInfo',\n        'voice':'es-MX-Sabina',\n        'api-version':'1.0'\n    }\n)\n\noutput_folder = os.path.join(os.getcwd(), uuid.uuid4().hex)\n\ntts_state = {'count':0}\n\ndef on_open(ws):\n    print('Opened')\n    \n    def run(*args):\n        try:\n            print('Running')\n            data = get_wave_header(16000)\n            ws.send(data, websocket.ABNF.OPCODE_BINARY)\n\n            while True:\n            #for i in range(0, RATE // CHUNK * RECORD_SECONDS):\n                sys.stdout.write('.')\n                data = stream.read(CHUNK, exception_on_overflow=False)\n                ws.send(data, websocket.ABNF.OPCODE_BINARY)\n\n            stream.stop_stream()\n            stream.close()\n            p.terminate()\n            ws.close()\n        except Exception as ex:\n            print(ex)\n        \n    _thread.start_new_thread(run, ())\n    \ndef on_close(ws):\n    print('Closed')\n    \ndef on_error(ws, error):\n    print(error)\n    \ndef on_data(ws, message, message_type, fin):\n    print('Receiving data')\n    if message_type == websocket.ABNF.OPCODE_BINARY:\n        print(message)\n    else:\n        tts_count = tts_state['count']\n        tts_file = tts_state.get('file', None)\n        if tts_file is None:\n            tts_count += 1\n            tts_state['count'] = tts_count\n            file_name = \"tts_{0}.wav\".format(tts_count)\n            if not os.path.exists(output_folder):\n                os.makedirs(output_folder)\n            tts_file = open(os.path.join(output_folder, file_name), 'wb')\n            tts_state['file'] = tts_file\n        tts_file.write(message)\n        if fin:\n            tts_file.close()\n            del tts_state['file']\n            os.system('aplay ' + output_folder + '/' + file_name)\n\nclient_trace_id = str(uuid.uuid4())\nrequest_url = 'wss://dev.microsofttranslator.com/speech/translate?%s' % params\nheaders = {\n    'Ocp-Apim-Subscription-Key':'696c0961cc074369badc0544ca90bcf2',\n    'X-ClientTraceId':client_trace_id\n}\n\nws_client = websocket.WebSocketApp(request_url, headers, on_open=on_open, on_data=on_data, on_error=on_error, on_close=on_close)\nws_client.run_forever()",
      "execution_count": 5,
      "outputs": [
        {
          "name": "stdout",
          "output_type": "stream",
          "text": "Opened\nRunning\n........Closed\nConnection is already closed.\n"
        }
      ]
    },
    {
      "metadata": {
        "trusted": false
      },
      "cell_type": "code",
      "source": "",
      "execution_count": null,
      "outputs": []
    }
  ],
  "metadata": {
    "kernelspec": {
      "name": "python3",
      "display_name": "Python 3",
      "language": "python"
    },
    "language_info": {
      "mimetype": "text/x-python",
      "nbconvert_exporter": "python",
      "name": "python",
      "pygments_lexer": "ipython3",
      "version": "3.5.4",
      "file_extension": ".py",
      "codemirror_mode": {
        "version": 3,
        "name": "ipython"
      }
    }
  },
  "nbformat": 4,
  "nbformat_minor": 2
}